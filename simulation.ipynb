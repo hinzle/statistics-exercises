{
 "cells": [
  {
   "cell_type": "markdown",
   "metadata": {},
   "source": [
    "# Import"
   ]
  },
  {
   "cell_type": "code",
   "execution_count": 25,
   "metadata": {},
   "outputs": [],
   "source": [
    "import numpy as np\n",
    "import pandas as pd\n",
    "import matplotlib.pyplot as plt\n",
    "\n",
    "np.random.seed(123)"
   ]
  },
  {
   "cell_type": "markdown",
   "metadata": {},
   "source": [
    "# numpy.random"
   ]
  },
  {
   "cell_type": "markdown",
   "metadata": {},
   "source": [
    "## np.random.choice"
   ]
  },
  {
   "cell_type": "code",
   "execution_count": 26,
   "metadata": {},
   "outputs": [
    {
     "data": {
      "text/plain": [
       "'h'"
      ]
     },
     "execution_count": 26,
     "metadata": {},
     "output_type": "execute_result"
    }
   ],
   "source": [
    "# selects random options from a list\n",
    "\n",
    "np.random.choice(['h','t'])"
   ]
  },
  {
   "cell_type": "markdown",
   "metadata": {},
   "source": [
    "## np.random.uniform"
   ]
  },
  {
   "cell_type": "code",
   "execution_count": 27,
   "metadata": {},
   "outputs": [
    {
     "data": {
      "text/plain": [
       "107.53683833360391"
      ]
     },
     "execution_count": 27,
     "metadata": {},
     "output_type": "execute_result"
    }
   ],
   "source": [
    "# generates numbers between a given lower and upper bound\n",
    "\n",
    "np.random.uniform(89,115)"
   ]
  },
  {
   "cell_type": "markdown",
   "metadata": {},
   "source": [
    "## np.random.random"
   ]
  },
  {
   "cell_type": "code",
   "execution_count": 28,
   "metadata": {},
   "outputs": [
    {
     "data": {
      "text/plain": [
       "0.4284709261868257"
      ]
     },
     "execution_count": 28,
     "metadata": {},
     "output_type": "execute_result"
    }
   ],
   "source": [
    "# generates numbers between 0 and 1\n",
    "\n",
    "np.random.random()"
   ]
  },
  {
   "cell_type": "markdown",
   "metadata": {},
   "source": [
    "## np.random.randn"
   ]
  },
  {
   "cell_type": "code",
   "execution_count": 29,
   "metadata": {},
   "outputs": [
    {
     "data": {
      "text/plain": [
       "1.1108714734285123"
      ]
     },
     "execution_count": 29,
     "metadata": {},
     "output_type": "execute_result"
    }
   ],
   "source": [
    "# generates numbers from the standard normal distribution\n",
    "\n",
    "np.random.randn()"
   ]
  },
  {
   "cell_type": "markdown",
   "metadata": {},
   "source": [
    "## np.random.normal"
   ]
  },
  {
   "cell_type": "code",
   "execution_count": 30,
   "metadata": {},
   "outputs": [
    {
     "data": {
      "text/plain": [
       "8.725695551180559"
      ]
     },
     "execution_count": 30,
     "metadata": {},
     "output_type": "execute_result"
    }
   ],
   "source": [
    "# generates numbers from a normal distribution with a specified mean and standard deviation\n",
    "\n",
    "mean=8\n",
    "std_dev=0.75\n",
    "np.random.normal(mean, std_dev)"
   ]
  },
  {
   "cell_type": "markdown",
   "metadata": {},
   "source": [
    "# Exercises"
   ]
  },
  {
   "cell_type": "markdown",
   "metadata": {},
   "source": [
    "## 1"
   ]
  },
  {
   "cell_type": "code",
   "execution_count": 31,
   "metadata": {},
   "outputs": [
    {
     "data": {
      "text/html": [
       "<div>\n",
       "<style scoped>\n",
       "    .dataframe tbody tr th:only-of-type {\n",
       "        vertical-align: middle;\n",
       "    }\n",
       "\n",
       "    .dataframe tbody tr th {\n",
       "        vertical-align: top;\n",
       "    }\n",
       "\n",
       "    .dataframe thead th {\n",
       "        text-align: right;\n",
       "    }\n",
       "</style>\n",
       "<table border=\"1\" class=\"dataframe\">\n",
       "  <thead>\n",
       "    <tr style=\"text-align: right;\">\n",
       "      <th></th>\n",
       "      <th>0</th>\n",
       "      <th>1</th>\n",
       "    </tr>\n",
       "  </thead>\n",
       "  <tbody>\n",
       "    <tr>\n",
       "      <th>0</th>\n",
       "      <td>3</td>\n",
       "      <td>4</td>\n",
       "    </tr>\n",
       "    <tr>\n",
       "      <th>1</th>\n",
       "      <td>2</td>\n",
       "      <td>2</td>\n",
       "    </tr>\n",
       "    <tr>\n",
       "      <th>2</th>\n",
       "      <td>1</td>\n",
       "      <td>2</td>\n",
       "    </tr>\n",
       "    <tr>\n",
       "      <th>3</th>\n",
       "      <td>2</td>\n",
       "      <td>1</td>\n",
       "    </tr>\n",
       "    <tr>\n",
       "      <th>4</th>\n",
       "      <td>1</td>\n",
       "      <td>2</td>\n",
       "    </tr>\n",
       "  </tbody>\n",
       "</table>\n",
       "</div>"
      ],
      "text/plain": [
       "   0  1\n",
       "0  3  4\n",
       "1  2  2\n",
       "2  1  2\n",
       "3  2  1\n",
       "4  1  2"
      ]
     },
     "execution_count": 31,
     "metadata": {},
     "output_type": "execute_result"
    }
   ],
   "source": [
    "rolls = pd.DataFrame(np.random.randint(1, 7, size=(10000, 2)))\n",
    "rolls.head()"
   ]
  },
  {
   "cell_type": "markdown",
   "metadata": {},
   "source": [
    "How likely is it that you roll doubles when rolling two dice?\n",
    "\n"
   ]
  },
  {
   "cell_type": "code",
   "execution_count": 32,
   "metadata": {},
   "outputs": [
    {
     "data": {
      "text/plain": [
       "0.1631"
      ]
     },
     "execution_count": 32,
     "metadata": {},
     "output_type": "execute_result"
    }
   ],
   "source": [
    "doubles = rolls.apply(lambda row: row.values[0]==row.values[1], axis=1)\n",
    "doubles.mean()"
   ]
  },
  {
   "cell_type": "markdown",
   "metadata": {},
   "source": [
    "## 2"
   ]
  },
  {
   "cell_type": "code",
   "execution_count": 33,
   "metadata": {},
   "outputs": [
    {
     "data": {
      "text/html": [
       "<div>\n",
       "<style scoped>\n",
       "    .dataframe tbody tr th:only-of-type {\n",
       "        vertical-align: middle;\n",
       "    }\n",
       "\n",
       "    .dataframe tbody tr th {\n",
       "        vertical-align: top;\n",
       "    }\n",
       "\n",
       "    .dataframe thead th {\n",
       "        text-align: right;\n",
       "    }\n",
       "</style>\n",
       "<table border=\"1\" class=\"dataframe\">\n",
       "  <thead>\n",
       "    <tr style=\"text-align: right;\">\n",
       "      <th></th>\n",
       "      <th>0</th>\n",
       "      <th>1</th>\n",
       "      <th>2</th>\n",
       "      <th>3</th>\n",
       "      <th>4</th>\n",
       "      <th>5</th>\n",
       "      <th>6</th>\n",
       "      <th>7</th>\n",
       "    </tr>\n",
       "  </thead>\n",
       "  <tbody>\n",
       "    <tr>\n",
       "      <th>4875</th>\n",
       "      <td>1</td>\n",
       "      <td>0</td>\n",
       "      <td>0</td>\n",
       "      <td>0</td>\n",
       "      <td>1</td>\n",
       "      <td>0</td>\n",
       "      <td>1</td>\n",
       "      <td>1</td>\n",
       "    </tr>\n",
       "    <tr>\n",
       "      <th>2817</th>\n",
       "      <td>0</td>\n",
       "      <td>0</td>\n",
       "      <td>0</td>\n",
       "      <td>0</td>\n",
       "      <td>1</td>\n",
       "      <td>0</td>\n",
       "      <td>1</td>\n",
       "      <td>0</td>\n",
       "    </tr>\n",
       "    <tr>\n",
       "      <th>6608</th>\n",
       "      <td>0</td>\n",
       "      <td>1</td>\n",
       "      <td>1</td>\n",
       "      <td>0</td>\n",
       "      <td>0</td>\n",
       "      <td>0</td>\n",
       "      <td>0</td>\n",
       "      <td>1</td>\n",
       "    </tr>\n",
       "    <tr>\n",
       "      <th>4849</th>\n",
       "      <td>0</td>\n",
       "      <td>1</td>\n",
       "      <td>0</td>\n",
       "      <td>1</td>\n",
       "      <td>1</td>\n",
       "      <td>1</td>\n",
       "      <td>0</td>\n",
       "      <td>0</td>\n",
       "    </tr>\n",
       "    <tr>\n",
       "      <th>5700</th>\n",
       "      <td>0</td>\n",
       "      <td>1</td>\n",
       "      <td>0</td>\n",
       "      <td>1</td>\n",
       "      <td>0</td>\n",
       "      <td>1</td>\n",
       "      <td>1</td>\n",
       "      <td>1</td>\n",
       "    </tr>\n",
       "    <tr>\n",
       "      <th>661</th>\n",
       "      <td>0</td>\n",
       "      <td>0</td>\n",
       "      <td>0</td>\n",
       "      <td>0</td>\n",
       "      <td>1</td>\n",
       "      <td>1</td>\n",
       "      <td>1</td>\n",
       "      <td>0</td>\n",
       "    </tr>\n",
       "    <tr>\n",
       "      <th>7638</th>\n",
       "      <td>0</td>\n",
       "      <td>0</td>\n",
       "      <td>1</td>\n",
       "      <td>1</td>\n",
       "      <td>0</td>\n",
       "      <td>1</td>\n",
       "      <td>0</td>\n",
       "      <td>1</td>\n",
       "    </tr>\n",
       "    <tr>\n",
       "      <th>4667</th>\n",
       "      <td>1</td>\n",
       "      <td>1</td>\n",
       "      <td>0</td>\n",
       "      <td>0</td>\n",
       "      <td>1</td>\n",
       "      <td>1</td>\n",
       "      <td>1</td>\n",
       "      <td>1</td>\n",
       "    </tr>\n",
       "    <tr>\n",
       "      <th>7085</th>\n",
       "      <td>0</td>\n",
       "      <td>1</td>\n",
       "      <td>0</td>\n",
       "      <td>1</td>\n",
       "      <td>1</td>\n",
       "      <td>1</td>\n",
       "      <td>0</td>\n",
       "      <td>1</td>\n",
       "    </tr>\n",
       "    <tr>\n",
       "      <th>6319</th>\n",
       "      <td>1</td>\n",
       "      <td>0</td>\n",
       "      <td>1</td>\n",
       "      <td>1</td>\n",
       "      <td>1</td>\n",
       "      <td>1</td>\n",
       "      <td>1</td>\n",
       "      <td>0</td>\n",
       "    </tr>\n",
       "  </tbody>\n",
       "</table>\n",
       "</div>"
      ],
      "text/plain": [
       "      0  1  2  3  4  5  6  7\n",
       "4875  1  0  0  0  1  0  1  1\n",
       "2817  0  0  0  0  1  0  1  0\n",
       "6608  0  1  1  0  0  0  0  1\n",
       "4849  0  1  0  1  1  1  0  0\n",
       "5700  0  1  0  1  0  1  1  1\n",
       "661   0  0  0  0  1  1  1  0\n",
       "7638  0  0  1  1  0  1  0  1\n",
       "4667  1  1  0  0  1  1  1  1\n",
       "7085  0  1  0  1  1  1  0  1\n",
       "6319  1  0  1  1  1  1  1  0"
      ]
     },
     "execution_count": 33,
     "metadata": {},
     "output_type": "execute_result"
    }
   ],
   "source": [
    "rolls = pd.DataFrame(np.random.randint(2, size=(10000, 8)))\n",
    "rolls.sample(10)"
   ]
  },
  {
   "cell_type": "markdown",
   "metadata": {},
   "source": [
    "3 heads"
   ]
  },
  {
   "cell_type": "code",
   "execution_count": 34,
   "metadata": {},
   "outputs": [
    {
     "data": {
      "text/plain": [
       "0.2281"
      ]
     },
     "execution_count": 34,
     "metadata": {},
     "output_type": "execute_result"
    }
   ],
   "source": [
    "(rolls.sum(axis=1)==3).mean()"
   ]
  },
  {
   "cell_type": "markdown",
   "metadata": {},
   "source": [
    "\\> 3 heads"
   ]
  },
  {
   "cell_type": "code",
   "execution_count": 35,
   "metadata": {},
   "outputs": [
    {
     "data": {
      "text/plain": [
       "0.6318"
      ]
     },
     "execution_count": 35,
     "metadata": {},
     "output_type": "execute_result"
    }
   ],
   "source": [
    "(rolls.sum(axis=1)>3).mean()"
   ]
  },
  {
   "cell_type": "markdown",
   "metadata": {},
   "source": [
    "## 3"
   ]
  },
  {
   "cell_type": "code",
   "execution_count": 36,
   "metadata": {},
   "outputs": [
    {
     "data": {
      "text/html": [
       "<div>\n",
       "<style scoped>\n",
       "    .dataframe tbody tr th:only-of-type {\n",
       "        vertical-align: middle;\n",
       "    }\n",
       "\n",
       "    .dataframe tbody tr th {\n",
       "        vertical-align: top;\n",
       "    }\n",
       "\n",
       "    .dataframe thead th {\n",
       "        text-align: right;\n",
       "    }\n",
       "</style>\n",
       "<table border=\"1\" class=\"dataframe\">\n",
       "  <thead>\n",
       "    <tr style=\"text-align: right;\">\n",
       "      <th></th>\n",
       "      <th>0</th>\n",
       "      <th>1</th>\n",
       "    </tr>\n",
       "  </thead>\n",
       "  <tbody>\n",
       "    <tr>\n",
       "      <th>0</th>\n",
       "      <td>web</td>\n",
       "      <td>data</td>\n",
       "    </tr>\n",
       "    <tr>\n",
       "      <th>1</th>\n",
       "      <td>web</td>\n",
       "      <td>data</td>\n",
       "    </tr>\n",
       "    <tr>\n",
       "      <th>2</th>\n",
       "      <td>data</td>\n",
       "      <td>web</td>\n",
       "    </tr>\n",
       "    <tr>\n",
       "      <th>3</th>\n",
       "      <td>web</td>\n",
       "      <td>web</td>\n",
       "    </tr>\n",
       "    <tr>\n",
       "      <th>4</th>\n",
       "      <td>data</td>\n",
       "      <td>web</td>\n",
       "    </tr>\n",
       "  </tbody>\n",
       "</table>\n",
       "</div>"
      ],
      "text/plain": [
       "      0     1\n",
       "0   web  data\n",
       "1   web  data\n",
       "2  data   web\n",
       "3   web   web\n",
       "4  data   web"
      ]
     },
     "execution_count": 36,
     "metadata": {},
     "output_type": "execute_result"
    }
   ],
   "source": [
    "boards = pd.DataFrame(np.random.choice(['data', 'web', 'web', 'web'], size=(10000, 2)))\n",
    "boards.head()"
   ]
  },
  {
   "cell_type": "markdown",
   "metadata": {},
   "source": [
    "What are the odds that the two billboards I drive past both have data science students on them?\n",
    "\n"
   ]
  },
  {
   "cell_type": "code",
   "execution_count": 37,
   "metadata": {},
   "outputs": [
    {
     "data": {
      "text/plain": [
       "0.0611"
      ]
     },
     "execution_count": 37,
     "metadata": {},
     "output_type": "execute_result"
    }
   ],
   "source": [
    "is_a_data_board=boards.apply(lambda row: row.values[0]==row.values[1]=='data', axis=1)\n",
    "is_a_data_board.mean()"
   ]
  },
  {
   "cell_type": "markdown",
   "metadata": {},
   "source": [
    "## 4"
   ]
  },
  {
   "cell_type": "markdown",
   "metadata": {},
   "source": [
    "How likely is it that I will be able to buy some poptarts on Friday afternoon?"
   ]
  },
  {
   "cell_type": "code",
   "execution_count": 38,
   "metadata": {},
   "outputs": [
    {
     "data": {
      "text/html": [
       "<div>\n",
       "<style scoped>\n",
       "    .dataframe tbody tr th:only-of-type {\n",
       "        vertical-align: middle;\n",
       "    }\n",
       "\n",
       "    .dataframe tbody tr th {\n",
       "        vertical-align: top;\n",
       "    }\n",
       "\n",
       "    .dataframe thead th {\n",
       "        text-align: right;\n",
       "    }\n",
       "</style>\n",
       "<table border=\"1\" class=\"dataframe\">\n",
       "  <thead>\n",
       "    <tr style=\"text-align: right;\">\n",
       "      <th></th>\n",
       "      <th>0</th>\n",
       "      <th>1</th>\n",
       "      <th>2</th>\n",
       "      <th>3</th>\n",
       "      <th>4</th>\n",
       "    </tr>\n",
       "  </thead>\n",
       "  <tbody>\n",
       "    <tr>\n",
       "      <th>0</th>\n",
       "      <td>2.118773</td>\n",
       "      <td>2.435233</td>\n",
       "      <td>-0.169253</td>\n",
       "      <td>4.153114</td>\n",
       "      <td>4.619150</td>\n",
       "    </tr>\n",
       "    <tr>\n",
       "      <th>1</th>\n",
       "      <td>2.204919</td>\n",
       "      <td>0.209921</td>\n",
       "      <td>2.897401</td>\n",
       "      <td>3.372730</td>\n",
       "      <td>5.766897</td>\n",
       "    </tr>\n",
       "    <tr>\n",
       "      <th>2</th>\n",
       "      <td>4.294334</td>\n",
       "      <td>3.583534</td>\n",
       "      <td>4.915124</td>\n",
       "      <td>0.761803</td>\n",
       "      <td>4.888378</td>\n",
       "    </tr>\n",
       "    <tr>\n",
       "      <th>3</th>\n",
       "      <td>3.384920</td>\n",
       "      <td>2.431073</td>\n",
       "      <td>2.179946</td>\n",
       "      <td>3.255704</td>\n",
       "      <td>3.716975</td>\n",
       "    </tr>\n",
       "    <tr>\n",
       "      <th>4</th>\n",
       "      <td>2.777964</td>\n",
       "      <td>2.150354</td>\n",
       "      <td>0.621022</td>\n",
       "      <td>3.797554</td>\n",
       "      <td>1.534941</td>\n",
       "    </tr>\n",
       "  </tbody>\n",
       "</table>\n",
       "</div>"
      ],
      "text/plain": [
       "          0         1         2         3         4\n",
       "0  2.118773  2.435233 -0.169253  4.153114  4.619150\n",
       "1  2.204919  0.209921  2.897401  3.372730  5.766897\n",
       "2  4.294334  3.583534  4.915124  0.761803  4.888378\n",
       "3  3.384920  2.431073  2.179946  3.255704  3.716975\n",
       "4  2.777964  2.150354  0.621022  3.797554  1.534941"
      ]
     },
     "execution_count": 38,
     "metadata": {},
     "output_type": "execute_result"
    }
   ],
   "source": [
    "tarts = pd.DataFrame(np.random.normal(3,1.5, size=(10000, 5)))\n",
    "tarts.head()"
   ]
  },
  {
   "cell_type": "code",
   "execution_count": 39,
   "metadata": {},
   "outputs": [
    {
     "data": {
      "text/plain": [
       "0.7241"
      ]
     },
     "execution_count": 39,
     "metadata": {},
     "output_type": "execute_result"
    }
   ],
   "source": [
    "(tarts.sum(axis=1)<17).mean()"
   ]
  },
  {
   "cell_type": "markdown",
   "metadata": {},
   "source": [
    "## 5"
   ]
  },
  {
   "cell_type": "code",
   "execution_count": 40,
   "metadata": {},
   "outputs": [
    {
     "data": {
      "text/html": [
       "<div>\n",
       "<style scoped>\n",
       "    .dataframe tbody tr th:only-of-type {\n",
       "        vertical-align: middle;\n",
       "    }\n",
       "\n",
       "    .dataframe tbody tr th {\n",
       "        vertical-align: top;\n",
       "    }\n",
       "\n",
       "    .dataframe thead th {\n",
       "        text-align: right;\n",
       "    }\n",
       "</style>\n",
       "<table border=\"1\" class=\"dataframe\">\n",
       "  <thead>\n",
       "    <tr style=\"text-align: right;\">\n",
       "      <th></th>\n",
       "      <th>0</th>\n",
       "    </tr>\n",
       "  </thead>\n",
       "  <tbody>\n",
       "    <tr>\n",
       "      <th>0</th>\n",
       "      <td>162.758443</td>\n",
       "    </tr>\n",
       "    <tr>\n",
       "      <th>1</th>\n",
       "      <td>166.333892</td>\n",
       "    </tr>\n",
       "    <tr>\n",
       "      <th>2</th>\n",
       "      <td>185.037007</td>\n",
       "    </tr>\n",
       "    <tr>\n",
       "      <th>3</th>\n",
       "      <td>173.540628</td>\n",
       "    </tr>\n",
       "    <tr>\n",
       "      <th>4</th>\n",
       "      <td>172.657455</td>\n",
       "    </tr>\n",
       "  </tbody>\n",
       "</table>\n",
       "</div>"
      ],
      "text/plain": [
       "            0\n",
       "0  162.758443\n",
       "1  166.333892\n",
       "2  185.037007\n",
       "3  173.540628\n",
       "4  172.657455"
      ]
     },
     "execution_count": 40,
     "metadata": {},
     "output_type": "execute_result"
    }
   ],
   "source": [
    "men = pd.DataFrame(np.random.normal(178,8, size=(10000)))\n",
    "men.head()"
   ]
  },
  {
   "cell_type": "code",
   "execution_count": 41,
   "metadata": {},
   "outputs": [
    {
     "data": {
      "text/html": [
       "<div>\n",
       "<style scoped>\n",
       "    .dataframe tbody tr th:only-of-type {\n",
       "        vertical-align: middle;\n",
       "    }\n",
       "\n",
       "    .dataframe tbody tr th {\n",
       "        vertical-align: top;\n",
       "    }\n",
       "\n",
       "    .dataframe thead th {\n",
       "        text-align: right;\n",
       "    }\n",
       "</style>\n",
       "<table border=\"1\" class=\"dataframe\">\n",
       "  <thead>\n",
       "    <tr style=\"text-align: right;\">\n",
       "      <th></th>\n",
       "      <th>0</th>\n",
       "    </tr>\n",
       "  </thead>\n",
       "  <tbody>\n",
       "    <tr>\n",
       "      <th>0</th>\n",
       "      <td>166.674783</td>\n",
       "    </tr>\n",
       "    <tr>\n",
       "      <th>1</th>\n",
       "      <td>176.041933</td>\n",
       "    </tr>\n",
       "    <tr>\n",
       "      <th>2</th>\n",
       "      <td>167.651051</td>\n",
       "    </tr>\n",
       "    <tr>\n",
       "      <th>3</th>\n",
       "      <td>167.864907</td>\n",
       "    </tr>\n",
       "    <tr>\n",
       "      <th>4</th>\n",
       "      <td>178.171937</td>\n",
       "    </tr>\n",
       "  </tbody>\n",
       "</table>\n",
       "</div>"
      ],
      "text/plain": [
       "            0\n",
       "0  166.674783\n",
       "1  176.041933\n",
       "2  167.651051\n",
       "3  167.864907\n",
       "4  178.171937"
      ]
     },
     "execution_count": 41,
     "metadata": {},
     "output_type": "execute_result"
    }
   ],
   "source": [
    "women = pd.DataFrame(np.random.normal(170,6,size=(10000)))\n",
    "women.head()"
   ]
  },
  {
   "cell_type": "markdown",
   "metadata": {},
   "source": [
    "If a man and woman are chosen at random, P(woman taller than man)?"
   ]
  },
  {
   "cell_type": "code",
   "execution_count": 42,
   "metadata": {},
   "outputs": [
    {
     "data": {
      "text/plain": [
       "0    0.2115\n",
       "dtype: float64"
      ]
     },
     "execution_count": 42,
     "metadata": {},
     "output_type": "execute_result"
    }
   ],
   "source": [
    "taller = women>men\n",
    "taller.mean()"
   ]
  },
  {
   "cell_type": "markdown",
   "metadata": {},
   "source": [
    "## 6"
   ]
  },
  {
   "cell_type": "code",
   "execution_count": 43,
   "metadata": {},
   "outputs": [
    {
     "data": {
      "text/html": [
       "<div>\n",
       "<style scoped>\n",
       "    .dataframe tbody tr th:only-of-type {\n",
       "        vertical-align: middle;\n",
       "    }\n",
       "\n",
       "    .dataframe tbody tr th {\n",
       "        vertical-align: top;\n",
       "    }\n",
       "\n",
       "    .dataframe thead th {\n",
       "        text-align: right;\n",
       "    }\n",
       "</style>\n",
       "<table border=\"1\" class=\"dataframe\">\n",
       "  <thead>\n",
       "    <tr style=\"text-align: right;\">\n",
       "      <th></th>\n",
       "      <th>0</th>\n",
       "    </tr>\n",
       "  </thead>\n",
       "  <tbody>\n",
       "    <tr>\n",
       "      <th>0</th>\n",
       "      <td>0.439626</td>\n",
       "    </tr>\n",
       "    <tr>\n",
       "      <th>1</th>\n",
       "      <td>0.905050</td>\n",
       "    </tr>\n",
       "    <tr>\n",
       "      <th>2</th>\n",
       "      <td>0.694002</td>\n",
       "    </tr>\n",
       "    <tr>\n",
       "      <th>3</th>\n",
       "      <td>0.564490</td>\n",
       "    </tr>\n",
       "    <tr>\n",
       "      <th>4</th>\n",
       "      <td>0.752954</td>\n",
       "    </tr>\n",
       "  </tbody>\n",
       "</table>\n",
       "</div>"
      ],
      "text/plain": [
       "          0\n",
       "0  0.439626\n",
       "1  0.905050\n",
       "2  0.694002\n",
       "3  0.564490\n",
       "4  0.752954"
      ]
     },
     "execution_count": 43,
     "metadata": {},
     "output_type": "execute_result"
    }
   ],
   "source": [
    "installs_50 = pd.DataFrame(np.random.random(size=(50)))\n",
    "installs_50.head()"
   ]
  },
  {
   "cell_type": "markdown",
   "metadata": {},
   "source": [
    "What are the odds that after having 50 students download anaconda, no one has an installation issue?"
   ]
  },
  {
   "cell_type": "code",
   "execution_count": 44,
   "metadata": {},
   "outputs": [
    {
     "data": {
      "text/plain": [
       "0    1.0\n",
       "dtype: float64"
      ]
     },
     "execution_count": 44,
     "metadata": {},
     "output_type": "execute_result"
    }
   ],
   "source": [
    "(installs_50>(1/250)).mean()"
   ]
  },
  {
   "cell_type": "code",
   "execution_count": 45,
   "metadata": {},
   "outputs": [
    {
     "data": {
      "text/html": [
       "<div>\n",
       "<style scoped>\n",
       "    .dataframe tbody tr th:only-of-type {\n",
       "        vertical-align: middle;\n",
       "    }\n",
       "\n",
       "    .dataframe tbody tr th {\n",
       "        vertical-align: top;\n",
       "    }\n",
       "\n",
       "    .dataframe thead th {\n",
       "        text-align: right;\n",
       "    }\n",
       "</style>\n",
       "<table border=\"1\" class=\"dataframe\">\n",
       "  <thead>\n",
       "    <tr style=\"text-align: right;\">\n",
       "      <th></th>\n",
       "      <th>0</th>\n",
       "    </tr>\n",
       "  </thead>\n",
       "  <tbody>\n",
       "    <tr>\n",
       "      <th>0</th>\n",
       "      <td>0.399697</td>\n",
       "    </tr>\n",
       "    <tr>\n",
       "      <th>1</th>\n",
       "      <td>0.532113</td>\n",
       "    </tr>\n",
       "    <tr>\n",
       "      <th>2</th>\n",
       "      <td>0.145852</td>\n",
       "    </tr>\n",
       "    <tr>\n",
       "      <th>3</th>\n",
       "      <td>0.262381</td>\n",
       "    </tr>\n",
       "    <tr>\n",
       "      <th>4</th>\n",
       "      <td>0.142887</td>\n",
       "    </tr>\n",
       "  </tbody>\n",
       "</table>\n",
       "</div>"
      ],
      "text/plain": [
       "          0\n",
       "0  0.399697\n",
       "1  0.532113\n",
       "2  0.145852\n",
       "3  0.262381\n",
       "4  0.142887"
      ]
     },
     "execution_count": 45,
     "metadata": {},
     "output_type": "execute_result"
    }
   ],
   "source": [
    "installs_100 = pd.DataFrame(np.random.random(size=(150)))\n",
    "installs_100.head()"
   ]
  },
  {
   "cell_type": "markdown",
   "metadata": {},
   "source": [
    "What are the odds that after having 100 students download anaconda, no one has an installation issue?"
   ]
  },
  {
   "cell_type": "code",
   "execution_count": 46,
   "metadata": {},
   "outputs": [
    {
     "data": {
      "text/plain": [
       "0    1.0\n",
       "dtype: float64"
      ]
     },
     "execution_count": 46,
     "metadata": {},
     "output_type": "execute_result"
    }
   ],
   "source": [
    "(installs_100>(1/250)).mean()"
   ]
  },
  {
   "cell_type": "code",
   "execution_count": 47,
   "metadata": {},
   "outputs": [
    {
     "data": {
      "text/html": [
       "<div>\n",
       "<style scoped>\n",
       "    .dataframe tbody tr th:only-of-type {\n",
       "        vertical-align: middle;\n",
       "    }\n",
       "\n",
       "    .dataframe tbody tr th {\n",
       "        vertical-align: top;\n",
       "    }\n",
       "\n",
       "    .dataframe thead th {\n",
       "        text-align: right;\n",
       "    }\n",
       "</style>\n",
       "<table border=\"1\" class=\"dataframe\">\n",
       "  <thead>\n",
       "    <tr style=\"text-align: right;\">\n",
       "      <th></th>\n",
       "      <th>0</th>\n",
       "    </tr>\n",
       "  </thead>\n",
       "  <tbody>\n",
       "    <tr>\n",
       "      <th>0</th>\n",
       "      <td>0.865357</td>\n",
       "    </tr>\n",
       "    <tr>\n",
       "      <th>1</th>\n",
       "      <td>0.680422</td>\n",
       "    </tr>\n",
       "    <tr>\n",
       "      <th>2</th>\n",
       "      <td>0.864983</td>\n",
       "    </tr>\n",
       "    <tr>\n",
       "      <th>3</th>\n",
       "      <td>0.333450</td>\n",
       "    </tr>\n",
       "    <tr>\n",
       "      <th>4</th>\n",
       "      <td>0.446602</td>\n",
       "    </tr>\n",
       "  </tbody>\n",
       "</table>\n",
       "</div>"
      ],
      "text/plain": [
       "          0\n",
       "0  0.865357\n",
       "1  0.680422\n",
       "2  0.864983\n",
       "3  0.333450\n",
       "4  0.446602"
      ]
     },
     "execution_count": 47,
     "metadata": {},
     "output_type": "execute_result"
    }
   ],
   "source": [
    "installs_150 = pd.DataFrame(np.random.random(size=(150)))\n",
    "installs_150.head()"
   ]
  },
  {
   "cell_type": "markdown",
   "metadata": {},
   "source": [
    "What is the probability that we observe an installation issue within the first 150 students that download anaconda?\n",
    "\n"
   ]
  },
  {
   "cell_type": "code",
   "execution_count": 48,
   "metadata": {},
   "outputs": [
    {
     "data": {
      "text/plain": [
       "0    0.006667\n",
       "dtype: float64"
      ]
     },
     "execution_count": 48,
     "metadata": {},
     "output_type": "execute_result"
    }
   ],
   "source": [
    "(installs_150<=(1/250)).mean()"
   ]
  },
  {
   "cell_type": "code",
   "execution_count": 49,
   "metadata": {},
   "outputs": [
    {
     "data": {
      "text/html": [
       "<div>\n",
       "<style scoped>\n",
       "    .dataframe tbody tr th:only-of-type {\n",
       "        vertical-align: middle;\n",
       "    }\n",
       "\n",
       "    .dataframe tbody tr th {\n",
       "        vertical-align: top;\n",
       "    }\n",
       "\n",
       "    .dataframe thead th {\n",
       "        text-align: right;\n",
       "    }\n",
       "</style>\n",
       "<table border=\"1\" class=\"dataframe\">\n",
       "  <thead>\n",
       "    <tr style=\"text-align: right;\">\n",
       "      <th></th>\n",
       "      <th>0</th>\n",
       "    </tr>\n",
       "  </thead>\n",
       "  <tbody>\n",
       "    <tr>\n",
       "      <th>0</th>\n",
       "      <td>0.745641</td>\n",
       "    </tr>\n",
       "    <tr>\n",
       "      <th>1</th>\n",
       "      <td>0.354359</td>\n",
       "    </tr>\n",
       "    <tr>\n",
       "      <th>2</th>\n",
       "      <td>0.246821</td>\n",
       "    </tr>\n",
       "    <tr>\n",
       "      <th>3</th>\n",
       "      <td>0.980193</td>\n",
       "    </tr>\n",
       "    <tr>\n",
       "      <th>4</th>\n",
       "      <td>0.077207</td>\n",
       "    </tr>\n",
       "  </tbody>\n",
       "</table>\n",
       "</div>"
      ],
      "text/plain": [
       "          0\n",
       "0  0.745641\n",
       "1  0.354359\n",
       "2  0.246821\n",
       "3  0.980193\n",
       "4  0.077207"
      ]
     },
     "execution_count": 49,
     "metadata": {},
     "output_type": "execute_result"
    }
   ],
   "source": [
    "installs_450 = pd.DataFrame(np.random.random(size=(450)))\n",
    "installs_450.head()"
   ]
  },
  {
   "cell_type": "markdown",
   "metadata": {},
   "source": [
    "How likely is it that 450 students all download anaconda without an issue?"
   ]
  },
  {
   "cell_type": "code",
   "execution_count": 50,
   "metadata": {},
   "outputs": [
    {
     "data": {
      "text/plain": [
       "0    0.993333\n",
       "dtype: float64"
      ]
     },
     "execution_count": 50,
     "metadata": {},
     "output_type": "execute_result"
    }
   ],
   "source": [
    "(installs_450>(1/250)).mean()"
   ]
  },
  {
   "cell_type": "markdown",
   "metadata": {},
   "source": [
    "## 7"
   ]
  },
  {
   "cell_type": "code",
   "execution_count": 51,
   "metadata": {},
   "outputs": [],
   "source": [
    "# trucks = pd.DataFrame(np.random.random(size=(10**10)))\n",
    "# trucks.head()\n",
    "\n",
    "# this frame took 1m 27.5s to run"
   ]
  },
  {
   "cell_type": "code",
   "execution_count": 56,
   "metadata": {},
   "outputs": [
    {
     "data": {
      "text/html": [
       "<div>\n",
       "<style scoped>\n",
       "    .dataframe tbody tr th:only-of-type {\n",
       "        vertical-align: middle;\n",
       "    }\n",
       "\n",
       "    .dataframe tbody tr th {\n",
       "        vertical-align: top;\n",
       "    }\n",
       "\n",
       "    .dataframe thead th {\n",
       "        text-align: right;\n",
       "    }\n",
       "</style>\n",
       "<table border=\"1\" class=\"dataframe\">\n",
       "  <thead>\n",
       "    <tr style=\"text-align: right;\">\n",
       "      <th></th>\n",
       "      <th>0</th>\n",
       "      <th>1</th>\n",
       "      <th>2</th>\n",
       "    </tr>\n",
       "  </thead>\n",
       "  <tbody>\n",
       "    <tr>\n",
       "      <th>0</th>\n",
       "      <td>0.550044</td>\n",
       "      <td>0.945130</td>\n",
       "      <td>0.706812</td>\n",
       "    </tr>\n",
       "    <tr>\n",
       "      <th>1</th>\n",
       "      <td>0.559587</td>\n",
       "      <td>0.341723</td>\n",
       "      <td>0.273493</td>\n",
       "    </tr>\n",
       "    <tr>\n",
       "      <th>2</th>\n",
       "      <td>0.087824</td>\n",
       "      <td>0.449476</td>\n",
       "      <td>0.214701</td>\n",
       "    </tr>\n",
       "    <tr>\n",
       "      <th>3</th>\n",
       "      <td>0.434950</td>\n",
       "      <td>0.857399</td>\n",
       "      <td>0.907913</td>\n",
       "    </tr>\n",
       "    <tr>\n",
       "      <th>4</th>\n",
       "      <td>0.030463</td>\n",
       "      <td>0.812865</td>\n",
       "      <td>0.661619</td>\n",
       "    </tr>\n",
       "  </tbody>\n",
       "</table>\n",
       "</div>"
      ],
      "text/plain": [
       "          0         1         2\n",
       "0  0.550044  0.945130  0.706812\n",
       "1  0.559587  0.341723  0.273493\n",
       "2  0.087824  0.449476  0.214701\n",
       "3  0.434950  0.857399  0.907913\n",
       "4  0.030463  0.812865  0.661619"
      ]
     },
     "execution_count": 56,
     "metadata": {},
     "output_type": "execute_result"
    }
   ],
   "source": [
    "trucks = pd.DataFrame(np.random.rand(10**5,3))\n",
    "trucks.head()"
   ]
  },
  {
   "cell_type": "markdown",
   "metadata": {},
   "source": [
    "You haven't seen a food truck there in 3 days. How unlikely is this?"
   ]
  },
  {
   "cell_type": "code",
   "execution_count": 72,
   "metadata": {},
   "outputs": [
    {
     "name": "stdout",
     "output_type": "stream",
     "text": [
      "Object `this` not found.\n"
     ]
    },
    {
     "data": {
      "text/plain": [
       "0.02643"
      ]
     },
     "execution_count": 72,
     "metadata": {},
     "output_type": "execute_result"
    }
   ],
   "source": [
    "((trucks>0.7).sum(axis=1)==3).mean()\n"
   ]
  },
  {
   "cell_type": "code",
   "execution_count": 99,
   "metadata": {},
   "outputs": [
    {
     "data": {
      "text/html": [
       "<div>\n",
       "<style scoped>\n",
       "    .dataframe tbody tr th:only-of-type {\n",
       "        vertical-align: middle;\n",
       "    }\n",
       "\n",
       "    .dataframe tbody tr th {\n",
       "        vertical-align: top;\n",
       "    }\n",
       "\n",
       "    .dataframe thead th {\n",
       "        text-align: right;\n",
       "    }\n",
       "</style>\n",
       "<table border=\"1\" class=\"dataframe\">\n",
       "  <thead>\n",
       "    <tr style=\"text-align: right;\">\n",
       "      <th></th>\n",
       "      <th>0</th>\n",
       "      <th>1</th>\n",
       "      <th>2</th>\n",
       "      <th>3</th>\n",
       "    </tr>\n",
       "  </thead>\n",
       "  <tbody>\n",
       "    <tr>\n",
       "      <th>0</th>\n",
       "      <td>0.347895</td>\n",
       "      <td>0.455919</td>\n",
       "      <td>0.840408</td>\n",
       "      <td>0.443291</td>\n",
       "    </tr>\n",
       "    <tr>\n",
       "      <th>1</th>\n",
       "      <td>0.710081</td>\n",
       "      <td>0.479897</td>\n",
       "      <td>0.376098</td>\n",
       "      <td>0.954855</td>\n",
       "    </tr>\n",
       "    <tr>\n",
       "      <th>2</th>\n",
       "      <td>0.957995</td>\n",
       "      <td>0.750407</td>\n",
       "      <td>0.544176</td>\n",
       "      <td>0.960343</td>\n",
       "    </tr>\n",
       "    <tr>\n",
       "      <th>3</th>\n",
       "      <td>0.376589</td>\n",
       "      <td>0.585055</td>\n",
       "      <td>0.956097</td>\n",
       "      <td>0.097820</td>\n",
       "    </tr>\n",
       "    <tr>\n",
       "      <th>4</th>\n",
       "      <td>0.204415</td>\n",
       "      <td>0.369144</td>\n",
       "      <td>0.539930</td>\n",
       "      <td>0.404223</td>\n",
       "    </tr>\n",
       "  </tbody>\n",
       "</table>\n",
       "</div>"
      ],
      "text/plain": [
       "          0         1         2         3\n",
       "0  0.347895  0.455919  0.840408  0.443291\n",
       "1  0.710081  0.479897  0.376098  0.954855\n",
       "2  0.957995  0.750407  0.544176  0.960343\n",
       "3  0.376589  0.585055  0.956097  0.097820\n",
       "4  0.204415  0.369144  0.539930  0.404223"
      ]
     },
     "execution_count": 99,
     "metadata": {},
     "output_type": "execute_result"
    }
   ],
   "source": [
    "trucks = pd.DataFrame(np.random.rand(10**5,4))\n",
    "trucks.head()"
   ]
  },
  {
   "cell_type": "markdown",
   "metadata": {},
   "source": [
    "How likely is it that a food truck will show up sometime this week?"
   ]
  },
  {
   "cell_type": "code",
   "execution_count": 108,
   "metadata": {},
   "outputs": [
    {
     "data": {
      "text/plain": [
       "0.34868"
      ]
     },
     "execution_count": 108,
     "metadata": {},
     "output_type": "execute_result"
    }
   ],
   "source": [
    "((trucks>0.7).sum(axis=1)>1).mean()"
   ]
  },
  {
   "cell_type": "markdown",
   "metadata": {},
   "source": [
    "## 8"
   ]
  },
  {
   "cell_type": "code",
   "execution_count": 110,
   "metadata": {},
   "outputs": [
    {
     "data": {
      "text/html": [
       "<div>\n",
       "<style scoped>\n",
       "    .dataframe tbody tr th:only-of-type {\n",
       "        vertical-align: middle;\n",
       "    }\n",
       "\n",
       "    .dataframe tbody tr th {\n",
       "        vertical-align: top;\n",
       "    }\n",
       "\n",
       "    .dataframe thead th {\n",
       "        text-align: right;\n",
       "    }\n",
       "</style>\n",
       "<table border=\"1\" class=\"dataframe\">\n",
       "  <thead>\n",
       "    <tr style=\"text-align: right;\">\n",
       "      <th></th>\n",
       "      <th>0</th>\n",
       "      <th>1</th>\n",
       "      <th>2</th>\n",
       "      <th>3</th>\n",
       "      <th>4</th>\n",
       "      <th>5</th>\n",
       "      <th>6</th>\n",
       "      <th>7</th>\n",
       "      <th>8</th>\n",
       "      <th>9</th>\n",
       "      <th>...</th>\n",
       "      <th>13</th>\n",
       "      <th>14</th>\n",
       "      <th>15</th>\n",
       "      <th>16</th>\n",
       "      <th>17</th>\n",
       "      <th>18</th>\n",
       "      <th>19</th>\n",
       "      <th>20</th>\n",
       "      <th>21</th>\n",
       "      <th>22</th>\n",
       "    </tr>\n",
       "  </thead>\n",
       "  <tbody>\n",
       "    <tr>\n",
       "      <th>0</th>\n",
       "      <td>0.548982</td>\n",
       "      <td>0.990969</td>\n",
       "      <td>0.166340</td>\n",
       "      <td>0.115248</td>\n",
       "      <td>0.413780</td>\n",
       "      <td>0.266427</td>\n",
       "      <td>0.945121</td>\n",
       "      <td>0.329557</td>\n",
       "      <td>0.350469</td>\n",
       "      <td>0.389120</td>\n",
       "      <td>...</td>\n",
       "      <td>0.043934</td>\n",
       "      <td>0.069592</td>\n",
       "      <td>0.986825</td>\n",
       "      <td>0.696996</td>\n",
       "      <td>0.617388</td>\n",
       "      <td>0.124326</td>\n",
       "      <td>0.635442</td>\n",
       "      <td>0.552768</td>\n",
       "      <td>0.902259</td>\n",
       "      <td>0.080417</td>\n",
       "    </tr>\n",
       "    <tr>\n",
       "      <th>1</th>\n",
       "      <td>0.503664</td>\n",
       "      <td>0.933312</td>\n",
       "      <td>0.784338</td>\n",
       "      <td>0.025373</td>\n",
       "      <td>0.885152</td>\n",
       "      <td>0.422076</td>\n",
       "      <td>0.481915</td>\n",
       "      <td>0.100588</td>\n",
       "      <td>0.704368</td>\n",
       "      <td>0.341346</td>\n",
       "      <td>...</td>\n",
       "      <td>0.038994</td>\n",
       "      <td>0.334978</td>\n",
       "      <td>0.174826</td>\n",
       "      <td>0.860351</td>\n",
       "      <td>0.222248</td>\n",
       "      <td>0.246469</td>\n",
       "      <td>0.692943</td>\n",
       "      <td>0.199527</td>\n",
       "      <td>0.605140</td>\n",
       "      <td>0.256838</td>\n",
       "    </tr>\n",
       "    <tr>\n",
       "      <th>2</th>\n",
       "      <td>0.173582</td>\n",
       "      <td>0.410726</td>\n",
       "      <td>0.572199</td>\n",
       "      <td>0.565961</td>\n",
       "      <td>0.778873</td>\n",
       "      <td>0.348091</td>\n",
       "      <td>0.769077</td>\n",
       "      <td>0.348487</td>\n",
       "      <td>0.975974</td>\n",
       "      <td>0.803609</td>\n",
       "      <td>...</td>\n",
       "      <td>0.124208</td>\n",
       "      <td>0.490307</td>\n",
       "      <td>0.948290</td>\n",
       "      <td>0.103259</td>\n",
       "      <td>0.454493</td>\n",
       "      <td>0.413245</td>\n",
       "      <td>0.950904</td>\n",
       "      <td>0.833088</td>\n",
       "      <td>0.947137</td>\n",
       "      <td>0.254927</td>\n",
       "    </tr>\n",
       "    <tr>\n",
       "      <th>3</th>\n",
       "      <td>0.197063</td>\n",
       "      <td>0.758345</td>\n",
       "      <td>0.100150</td>\n",
       "      <td>0.368420</td>\n",
       "      <td>0.971026</td>\n",
       "      <td>0.128583</td>\n",
       "      <td>0.896802</td>\n",
       "      <td>0.967660</td>\n",
       "      <td>0.657605</td>\n",
       "      <td>0.142101</td>\n",
       "      <td>...</td>\n",
       "      <td>0.780005</td>\n",
       "      <td>0.614332</td>\n",
       "      <td>0.004218</td>\n",
       "      <td>0.286205</td>\n",
       "      <td>0.797000</td>\n",
       "      <td>0.102725</td>\n",
       "      <td>0.734485</td>\n",
       "      <td>0.831626</td>\n",
       "      <td>0.000186</td>\n",
       "      <td>0.585467</td>\n",
       "    </tr>\n",
       "    <tr>\n",
       "      <th>4</th>\n",
       "      <td>0.607261</td>\n",
       "      <td>0.453602</td>\n",
       "      <td>0.503544</td>\n",
       "      <td>0.229715</td>\n",
       "      <td>0.989910</td>\n",
       "      <td>0.709343</td>\n",
       "      <td>0.013225</td>\n",
       "      <td>0.329862</td>\n",
       "      <td>0.618571</td>\n",
       "      <td>0.729107</td>\n",
       "      <td>...</td>\n",
       "      <td>0.338480</td>\n",
       "      <td>0.614861</td>\n",
       "      <td>0.953257</td>\n",
       "      <td>0.191974</td>\n",
       "      <td>0.853066</td>\n",
       "      <td>0.345464</td>\n",
       "      <td>0.288058</td>\n",
       "      <td>0.579141</td>\n",
       "      <td>0.641332</td>\n",
       "      <td>0.855464</td>\n",
       "    </tr>\n",
       "  </tbody>\n",
       "</table>\n",
       "<p>5 rows × 23 columns</p>\n",
       "</div>"
      ],
      "text/plain": [
       "         0         1         2         3         4         5         6   \\\n",
       "0  0.548982  0.990969  0.166340  0.115248  0.413780  0.266427  0.945121   \n",
       "1  0.503664  0.933312  0.784338  0.025373  0.885152  0.422076  0.481915   \n",
       "2  0.173582  0.410726  0.572199  0.565961  0.778873  0.348091  0.769077   \n",
       "3  0.197063  0.758345  0.100150  0.368420  0.971026  0.128583  0.896802   \n",
       "4  0.607261  0.453602  0.503544  0.229715  0.989910  0.709343  0.013225   \n",
       "\n",
       "         7         8         9   ...        13        14        15        16  \\\n",
       "0  0.329557  0.350469  0.389120  ...  0.043934  0.069592  0.986825  0.696996   \n",
       "1  0.100588  0.704368  0.341346  ...  0.038994  0.334978  0.174826  0.860351   \n",
       "2  0.348487  0.975974  0.803609  ...  0.124208  0.490307  0.948290  0.103259   \n",
       "3  0.967660  0.657605  0.142101  ...  0.780005  0.614332  0.004218  0.286205   \n",
       "4  0.329862  0.618571  0.729107  ...  0.338480  0.614861  0.953257  0.191974   \n",
       "\n",
       "         17        18        19        20        21        22  \n",
       "0  0.617388  0.124326  0.635442  0.552768  0.902259  0.080417  \n",
       "1  0.222248  0.246469  0.692943  0.199527  0.605140  0.256838  \n",
       "2  0.454493  0.413245  0.950904  0.833088  0.947137  0.254927  \n",
       "3  0.797000  0.102725  0.734485  0.831626  0.000186  0.585467  \n",
       "4  0.853066  0.345464  0.288058  0.579141  0.641332  0.855464  \n",
       "\n",
       "[5 rows x 23 columns]"
      ]
     },
     "execution_count": 110,
     "metadata": {},
     "output_type": "execute_result"
    }
   ],
   "source": [
    "bdays = pd.DataFrame(np.random.rand(10**5,23))\n",
    "bdays.head()"
   ]
  },
  {
   "cell_type": "markdown",
   "metadata": {},
   "source": [
    "23 people are in the same room, what are the odds that two of them share a birthday? "
   ]
  },
  {
   "cell_type": "code",
   "execution_count": 116,
   "metadata": {},
   "outputs": [
    {
     "data": {
      "text/plain": [
       "0.00177"
      ]
     },
     "execution_count": 116,
     "metadata": {},
     "output_type": "execute_result"
    }
   ],
   "source": [
    "((bdays<=1/365.25).sum(axis=1)>=2).mean()"
   ]
  },
  {
   "cell_type": "code",
   "execution_count": 117,
   "metadata": {},
   "outputs": [
    {
     "data": {
      "text/html": [
       "<div>\n",
       "<style scoped>\n",
       "    .dataframe tbody tr th:only-of-type {\n",
       "        vertical-align: middle;\n",
       "    }\n",
       "\n",
       "    .dataframe tbody tr th {\n",
       "        vertical-align: top;\n",
       "    }\n",
       "\n",
       "    .dataframe thead th {\n",
       "        text-align: right;\n",
       "    }\n",
       "</style>\n",
       "<table border=\"1\" class=\"dataframe\">\n",
       "  <thead>\n",
       "    <tr style=\"text-align: right;\">\n",
       "      <th></th>\n",
       "      <th>0</th>\n",
       "      <th>1</th>\n",
       "      <th>2</th>\n",
       "      <th>3</th>\n",
       "      <th>4</th>\n",
       "      <th>5</th>\n",
       "      <th>6</th>\n",
       "      <th>7</th>\n",
       "      <th>8</th>\n",
       "      <th>9</th>\n",
       "      <th>10</th>\n",
       "      <th>11</th>\n",
       "      <th>12</th>\n",
       "      <th>13</th>\n",
       "      <th>14</th>\n",
       "      <th>15</th>\n",
       "      <th>16</th>\n",
       "      <th>17</th>\n",
       "      <th>18</th>\n",
       "      <th>19</th>\n",
       "    </tr>\n",
       "  </thead>\n",
       "  <tbody>\n",
       "    <tr>\n",
       "      <th>0</th>\n",
       "      <td>0.371427</td>\n",
       "      <td>0.225456</td>\n",
       "      <td>0.480866</td>\n",
       "      <td>0.943906</td>\n",
       "      <td>0.903647</td>\n",
       "      <td>0.696103</td>\n",
       "      <td>0.299181</td>\n",
       "      <td>0.272375</td>\n",
       "      <td>0.821033</td>\n",
       "      <td>0.993325</td>\n",
       "      <td>0.221847</td>\n",
       "      <td>0.522526</td>\n",
       "      <td>0.230876</td>\n",
       "      <td>0.589864</td>\n",
       "      <td>0.802387</td>\n",
       "      <td>0.247366</td>\n",
       "      <td>0.641269</td>\n",
       "      <td>0.488471</td>\n",
       "      <td>0.800848</td>\n",
       "      <td>0.308626</td>\n",
       "    </tr>\n",
       "    <tr>\n",
       "      <th>1</th>\n",
       "      <td>0.876951</td>\n",
       "      <td>0.022364</td>\n",
       "      <td>0.582739</td>\n",
       "      <td>0.313778</td>\n",
       "      <td>0.814722</td>\n",
       "      <td>0.514585</td>\n",
       "      <td>0.874949</td>\n",
       "      <td>0.638670</td>\n",
       "      <td>0.733030</td>\n",
       "      <td>0.168458</td>\n",
       "      <td>0.751450</td>\n",
       "      <td>0.765610</td>\n",
       "      <td>0.377205</td>\n",
       "      <td>0.731727</td>\n",
       "      <td>0.033777</td>\n",
       "      <td>0.134188</td>\n",
       "      <td>0.995717</td>\n",
       "      <td>0.878287</td>\n",
       "      <td>0.910202</td>\n",
       "      <td>0.795714</td>\n",
       "    </tr>\n",
       "    <tr>\n",
       "      <th>2</th>\n",
       "      <td>0.071803</td>\n",
       "      <td>0.705753</td>\n",
       "      <td>0.499203</td>\n",
       "      <td>0.021200</td>\n",
       "      <td>0.034535</td>\n",
       "      <td>0.363437</td>\n",
       "      <td>0.426828</td>\n",
       "      <td>0.143512</td>\n",
       "      <td>0.601730</td>\n",
       "      <td>0.731558</td>\n",
       "      <td>0.703257</td>\n",
       "      <td>0.300220</td>\n",
       "      <td>0.414157</td>\n",
       "      <td>0.224056</td>\n",
       "      <td>0.972760</td>\n",
       "      <td>0.416137</td>\n",
       "      <td>0.150823</td>\n",
       "      <td>0.102560</td>\n",
       "      <td>0.139595</td>\n",
       "      <td>0.609877</td>\n",
       "    </tr>\n",
       "    <tr>\n",
       "      <th>3</th>\n",
       "      <td>0.109639</td>\n",
       "      <td>0.791858</td>\n",
       "      <td>0.042887</td>\n",
       "      <td>0.846805</td>\n",
       "      <td>0.961607</td>\n",
       "      <td>0.901542</td>\n",
       "      <td>0.448559</td>\n",
       "      <td>0.148793</td>\n",
       "      <td>0.475464</td>\n",
       "      <td>0.035252</td>\n",
       "      <td>0.855939</td>\n",
       "      <td>0.601018</td>\n",
       "      <td>0.366055</td>\n",
       "      <td>0.718165</td>\n",
       "      <td>0.852719</td>\n",
       "      <td>0.066751</td>\n",
       "      <td>0.896611</td>\n",
       "      <td>0.581383</td>\n",
       "      <td>0.433891</td>\n",
       "      <td>0.924614</td>\n",
       "    </tr>\n",
       "    <tr>\n",
       "      <th>4</th>\n",
       "      <td>0.761022</td>\n",
       "      <td>0.655705</td>\n",
       "      <td>0.930347</td>\n",
       "      <td>0.663063</td>\n",
       "      <td>0.717658</td>\n",
       "      <td>0.468689</td>\n",
       "      <td>0.534706</td>\n",
       "      <td>0.270459</td>\n",
       "      <td>0.763346</td>\n",
       "      <td>0.004584</td>\n",
       "      <td>0.590001</td>\n",
       "      <td>0.700003</td>\n",
       "      <td>0.882827</td>\n",
       "      <td>0.975578</td>\n",
       "      <td>0.052804</td>\n",
       "      <td>0.715103</td>\n",
       "      <td>0.461974</td>\n",
       "      <td>0.295392</td>\n",
       "      <td>0.010474</td>\n",
       "      <td>0.613180</td>\n",
       "    </tr>\n",
       "  </tbody>\n",
       "</table>\n",
       "</div>"
      ],
      "text/plain": [
       "         0         1         2         3         4         5         6   \\\n",
       "0  0.371427  0.225456  0.480866  0.943906  0.903647  0.696103  0.299181   \n",
       "1  0.876951  0.022364  0.582739  0.313778  0.814722  0.514585  0.874949   \n",
       "2  0.071803  0.705753  0.499203  0.021200  0.034535  0.363437  0.426828   \n",
       "3  0.109639  0.791858  0.042887  0.846805  0.961607  0.901542  0.448559   \n",
       "4  0.761022  0.655705  0.930347  0.663063  0.717658  0.468689  0.534706   \n",
       "\n",
       "         7         8         9         10        11        12        13  \\\n",
       "0  0.272375  0.821033  0.993325  0.221847  0.522526  0.230876  0.589864   \n",
       "1  0.638670  0.733030  0.168458  0.751450  0.765610  0.377205  0.731727   \n",
       "2  0.143512  0.601730  0.731558  0.703257  0.300220  0.414157  0.224056   \n",
       "3  0.148793  0.475464  0.035252  0.855939  0.601018  0.366055  0.718165   \n",
       "4  0.270459  0.763346  0.004584  0.590001  0.700003  0.882827  0.975578   \n",
       "\n",
       "         14        15        16        17        18        19  \n",
       "0  0.802387  0.247366  0.641269  0.488471  0.800848  0.308626  \n",
       "1  0.033777  0.134188  0.995717  0.878287  0.910202  0.795714  \n",
       "2  0.972760  0.416137  0.150823  0.102560  0.139595  0.609877  \n",
       "3  0.852719  0.066751  0.896611  0.581383  0.433891  0.924614  \n",
       "4  0.052804  0.715103  0.461974  0.295392  0.010474  0.613180  "
      ]
     },
     "execution_count": 117,
     "metadata": {},
     "output_type": "execute_result"
    }
   ],
   "source": [
    "bdays = pd.DataFrame(np.random.rand(10**5,20))\n",
    "bdays.head()"
   ]
  },
  {
   "cell_type": "markdown",
   "metadata": {},
   "source": [
    "What if it's 20 people?"
   ]
  },
  {
   "cell_type": "code",
   "execution_count": 118,
   "metadata": {},
   "outputs": [
    {
     "data": {
      "text/plain": [
       "0.00154"
      ]
     },
     "execution_count": 118,
     "metadata": {},
     "output_type": "execute_result"
    }
   ],
   "source": [
    "((bdays<=1/365.25).sum(axis=1)>=2).mean()"
   ]
  },
  {
   "cell_type": "code",
   "execution_count": 119,
   "metadata": {},
   "outputs": [
    {
     "data": {
      "text/html": [
       "<div>\n",
       "<style scoped>\n",
       "    .dataframe tbody tr th:only-of-type {\n",
       "        vertical-align: middle;\n",
       "    }\n",
       "\n",
       "    .dataframe tbody tr th {\n",
       "        vertical-align: top;\n",
       "    }\n",
       "\n",
       "    .dataframe thead th {\n",
       "        text-align: right;\n",
       "    }\n",
       "</style>\n",
       "<table border=\"1\" class=\"dataframe\">\n",
       "  <thead>\n",
       "    <tr style=\"text-align: right;\">\n",
       "      <th></th>\n",
       "      <th>0</th>\n",
       "      <th>1</th>\n",
       "      <th>2</th>\n",
       "      <th>3</th>\n",
       "      <th>4</th>\n",
       "      <th>5</th>\n",
       "      <th>6</th>\n",
       "      <th>7</th>\n",
       "      <th>8</th>\n",
       "      <th>9</th>\n",
       "      <th>...</th>\n",
       "      <th>30</th>\n",
       "      <th>31</th>\n",
       "      <th>32</th>\n",
       "      <th>33</th>\n",
       "      <th>34</th>\n",
       "      <th>35</th>\n",
       "      <th>36</th>\n",
       "      <th>37</th>\n",
       "      <th>38</th>\n",
       "      <th>39</th>\n",
       "    </tr>\n",
       "  </thead>\n",
       "  <tbody>\n",
       "    <tr>\n",
       "      <th>0</th>\n",
       "      <td>0.483292</td>\n",
       "      <td>0.345753</td>\n",
       "      <td>0.165155</td>\n",
       "      <td>0.256913</td>\n",
       "      <td>0.528993</td>\n",
       "      <td>0.088132</td>\n",
       "      <td>0.294449</td>\n",
       "      <td>0.652604</td>\n",
       "      <td>0.060428</td>\n",
       "      <td>0.253955</td>\n",
       "      <td>...</td>\n",
       "      <td>0.453448</td>\n",
       "      <td>0.221096</td>\n",
       "      <td>0.709895</td>\n",
       "      <td>0.278356</td>\n",
       "      <td>0.397734</td>\n",
       "      <td>0.184358</td>\n",
       "      <td>0.166028</td>\n",
       "      <td>0.154769</td>\n",
       "      <td>0.927171</td>\n",
       "      <td>0.982004</td>\n",
       "    </tr>\n",
       "    <tr>\n",
       "      <th>1</th>\n",
       "      <td>0.899457</td>\n",
       "      <td>0.509066</td>\n",
       "      <td>0.753608</td>\n",
       "      <td>0.724416</td>\n",
       "      <td>0.812415</td>\n",
       "      <td>0.897013</td>\n",
       "      <td>0.595255</td>\n",
       "      <td>0.000533</td>\n",
       "      <td>0.363735</td>\n",
       "      <td>0.997020</td>\n",
       "      <td>...</td>\n",
       "      <td>0.045035</td>\n",
       "      <td>0.954706</td>\n",
       "      <td>0.505121</td>\n",
       "      <td>0.214958</td>\n",
       "      <td>0.221650</td>\n",
       "      <td>0.372619</td>\n",
       "      <td>0.692197</td>\n",
       "      <td>0.348176</td>\n",
       "      <td>0.961506</td>\n",
       "      <td>0.486158</td>\n",
       "    </tr>\n",
       "    <tr>\n",
       "      <th>2</th>\n",
       "      <td>0.028659</td>\n",
       "      <td>0.392124</td>\n",
       "      <td>0.429605</td>\n",
       "      <td>0.980828</td>\n",
       "      <td>0.405905</td>\n",
       "      <td>0.771145</td>\n",
       "      <td>0.635967</td>\n",
       "      <td>0.139435</td>\n",
       "      <td>0.296747</td>\n",
       "      <td>0.133572</td>\n",
       "      <td>...</td>\n",
       "      <td>0.956643</td>\n",
       "      <td>0.776752</td>\n",
       "      <td>0.729609</td>\n",
       "      <td>0.912072</td>\n",
       "      <td>0.996737</td>\n",
       "      <td>0.280914</td>\n",
       "      <td>0.679510</td>\n",
       "      <td>0.996605</td>\n",
       "      <td>0.311694</td>\n",
       "      <td>0.625037</td>\n",
       "    </tr>\n",
       "    <tr>\n",
       "      <th>3</th>\n",
       "      <td>0.692550</td>\n",
       "      <td>0.473184</td>\n",
       "      <td>0.837675</td>\n",
       "      <td>0.449792</td>\n",
       "      <td>0.151652</td>\n",
       "      <td>0.596777</td>\n",
       "      <td>0.256367</td>\n",
       "      <td>0.301056</td>\n",
       "      <td>0.482237</td>\n",
       "      <td>0.697138</td>\n",
       "      <td>...</td>\n",
       "      <td>0.541746</td>\n",
       "      <td>0.643767</td>\n",
       "      <td>0.812091</td>\n",
       "      <td>0.606094</td>\n",
       "      <td>0.935603</td>\n",
       "      <td>0.405278</td>\n",
       "      <td>0.737227</td>\n",
       "      <td>0.984050</td>\n",
       "      <td>0.544086</td>\n",
       "      <td>0.506298</td>\n",
       "    </tr>\n",
       "    <tr>\n",
       "      <th>4</th>\n",
       "      <td>0.925183</td>\n",
       "      <td>0.453500</td>\n",
       "      <td>0.886566</td>\n",
       "      <td>0.056888</td>\n",
       "      <td>0.150133</td>\n",
       "      <td>0.091246</td>\n",
       "      <td>0.854046</td>\n",
       "      <td>0.541670</td>\n",
       "      <td>0.786867</td>\n",
       "      <td>0.646344</td>\n",
       "      <td>...</td>\n",
       "      <td>0.192954</td>\n",
       "      <td>0.276796</td>\n",
       "      <td>0.064321</td>\n",
       "      <td>0.347898</td>\n",
       "      <td>0.210216</td>\n",
       "      <td>0.463894</td>\n",
       "      <td>0.363406</td>\n",
       "      <td>0.331006</td>\n",
       "      <td>0.068624</td>\n",
       "      <td>0.453773</td>\n",
       "    </tr>\n",
       "  </tbody>\n",
       "</table>\n",
       "<p>5 rows × 40 columns</p>\n",
       "</div>"
      ],
      "text/plain": [
       "         0         1         2         3         4         5         6   \\\n",
       "0  0.483292  0.345753  0.165155  0.256913  0.528993  0.088132  0.294449   \n",
       "1  0.899457  0.509066  0.753608  0.724416  0.812415  0.897013  0.595255   \n",
       "2  0.028659  0.392124  0.429605  0.980828  0.405905  0.771145  0.635967   \n",
       "3  0.692550  0.473184  0.837675  0.449792  0.151652  0.596777  0.256367   \n",
       "4  0.925183  0.453500  0.886566  0.056888  0.150133  0.091246  0.854046   \n",
       "\n",
       "         7         8         9   ...        30        31        32        33  \\\n",
       "0  0.652604  0.060428  0.253955  ...  0.453448  0.221096  0.709895  0.278356   \n",
       "1  0.000533  0.363735  0.997020  ...  0.045035  0.954706  0.505121  0.214958   \n",
       "2  0.139435  0.296747  0.133572  ...  0.956643  0.776752  0.729609  0.912072   \n",
       "3  0.301056  0.482237  0.697138  ...  0.541746  0.643767  0.812091  0.606094   \n",
       "4  0.541670  0.786867  0.646344  ...  0.192954  0.276796  0.064321  0.347898   \n",
       "\n",
       "         34        35        36        37        38        39  \n",
       "0  0.397734  0.184358  0.166028  0.154769  0.927171  0.982004  \n",
       "1  0.221650  0.372619  0.692197  0.348176  0.961506  0.486158  \n",
       "2  0.996737  0.280914  0.679510  0.996605  0.311694  0.625037  \n",
       "3  0.935603  0.405278  0.737227  0.984050  0.544086  0.506298  \n",
       "4  0.210216  0.463894  0.363406  0.331006  0.068624  0.453773  \n",
       "\n",
       "[5 rows x 40 columns]"
      ]
     },
     "execution_count": 119,
     "metadata": {},
     "output_type": "execute_result"
    }
   ],
   "source": [
    "bdays = pd.DataFrame(np.random.rand(10**5,40))\n",
    "bdays.head()"
   ]
  },
  {
   "cell_type": "markdown",
   "metadata": {},
   "source": [
    "40?"
   ]
  },
  {
   "cell_type": "code",
   "execution_count": 120,
   "metadata": {},
   "outputs": [
    {
     "data": {
      "text/plain": [
       "0.00561"
      ]
     },
     "execution_count": 120,
     "metadata": {},
     "output_type": "execute_result"
    }
   ],
   "source": [
    "((bdays<=1/365.25).sum(axis=1)>=2).mean()"
   ]
  },
  {
   "cell_type": "markdown",
   "metadata": {},
   "source": [
    "## Mage Duel!"
   ]
  },
  {
   "cell_type": "code",
   "execution_count": 157,
   "metadata": {},
   "outputs": [
    {
     "data": {
      "text/html": [
       "<div>\n",
       "<style scoped>\n",
       "    .dataframe tbody tr th:only-of-type {\n",
       "        vertical-align: middle;\n",
       "    }\n",
       "\n",
       "    .dataframe tbody tr th {\n",
       "        vertical-align: top;\n",
       "    }\n",
       "\n",
       "    .dataframe thead th {\n",
       "        text-align: right;\n",
       "    }\n",
       "</style>\n",
       "<table border=\"1\" class=\"dataframe\">\n",
       "  <thead>\n",
       "    <tr style=\"text-align: right;\">\n",
       "      <th></th>\n",
       "      <th>0</th>\n",
       "      <th>1</th>\n",
       "      <th>2</th>\n",
       "      <th>3</th>\n",
       "      <th>4</th>\n",
       "      <th>5</th>\n",
       "    </tr>\n",
       "  </thead>\n",
       "  <tbody>\n",
       "    <tr>\n",
       "      <th>0</th>\n",
       "      <td>2</td>\n",
       "      <td>2</td>\n",
       "      <td>2</td>\n",
       "      <td>1</td>\n",
       "      <td>1</td>\n",
       "      <td>2</td>\n",
       "    </tr>\n",
       "    <tr>\n",
       "      <th>1</th>\n",
       "      <td>3</td>\n",
       "      <td>3</td>\n",
       "      <td>1</td>\n",
       "      <td>2</td>\n",
       "      <td>2</td>\n",
       "      <td>1</td>\n",
       "    </tr>\n",
       "    <tr>\n",
       "      <th>2</th>\n",
       "      <td>3</td>\n",
       "      <td>2</td>\n",
       "      <td>3</td>\n",
       "      <td>1</td>\n",
       "      <td>2</td>\n",
       "      <td>3</td>\n",
       "    </tr>\n",
       "    <tr>\n",
       "      <th>3</th>\n",
       "      <td>2</td>\n",
       "      <td>2</td>\n",
       "      <td>3</td>\n",
       "      <td>2</td>\n",
       "      <td>3</td>\n",
       "      <td>1</td>\n",
       "    </tr>\n",
       "    <tr>\n",
       "      <th>4</th>\n",
       "      <td>2</td>\n",
       "      <td>2</td>\n",
       "      <td>1</td>\n",
       "      <td>2</td>\n",
       "      <td>2</td>\n",
       "      <td>2</td>\n",
       "    </tr>\n",
       "  </tbody>\n",
       "</table>\n",
       "</div>"
      ],
      "text/plain": [
       "   0  1  2  3  4  5\n",
       "0  2  2  2  1  1  2\n",
       "1  3  3  1  2  2  1\n",
       "2  3  2  3  1  2  3\n",
       "3  2  2  3  2  3  1\n",
       "4  2  2  1  2  2  2"
      ]
     },
     "execution_count": 157,
     "metadata": {},
     "output_type": "execute_result"
    }
   ],
   "source": [
    "me_mage_hit = pd.DataFrame(np.random.randint(1,4, size=(10,6)))\n",
    "me_mage_hit.head()\n"
   ]
  },
  {
   "cell_type": "code",
   "execution_count": 158,
   "metadata": {},
   "outputs": [
    {
     "data": {
      "text/html": [
       "<div>\n",
       "<style scoped>\n",
       "    .dataframe tbody tr th:only-of-type {\n",
       "        vertical-align: middle;\n",
       "    }\n",
       "\n",
       "    .dataframe tbody tr th {\n",
       "        vertical-align: top;\n",
       "    }\n",
       "\n",
       "    .dataframe thead th {\n",
       "        text-align: right;\n",
       "    }\n",
       "</style>\n",
       "<table border=\"1\" class=\"dataframe\">\n",
       "  <thead>\n",
       "    <tr style=\"text-align: right;\">\n",
       "      <th></th>\n",
       "      <th>0</th>\n",
       "      <th>1</th>\n",
       "      <th>2</th>\n",
       "      <th>3</th>\n",
       "      <th>4</th>\n",
       "      <th>5</th>\n",
       "    </tr>\n",
       "  </thead>\n",
       "  <tbody>\n",
       "    <tr>\n",
       "      <th>0</th>\n",
       "      <td>2</td>\n",
       "      <td>3</td>\n",
       "      <td>1</td>\n",
       "      <td>1</td>\n",
       "      <td>3</td>\n",
       "      <td>2</td>\n",
       "    </tr>\n",
       "    <tr>\n",
       "      <th>1</th>\n",
       "      <td>2</td>\n",
       "      <td>1</td>\n",
       "      <td>1</td>\n",
       "      <td>3</td>\n",
       "      <td>3</td>\n",
       "      <td>2</td>\n",
       "    </tr>\n",
       "    <tr>\n",
       "      <th>2</th>\n",
       "      <td>2</td>\n",
       "      <td>2</td>\n",
       "      <td>1</td>\n",
       "      <td>2</td>\n",
       "      <td>2</td>\n",
       "      <td>2</td>\n",
       "    </tr>\n",
       "    <tr>\n",
       "      <th>3</th>\n",
       "      <td>2</td>\n",
       "      <td>2</td>\n",
       "      <td>2</td>\n",
       "      <td>1</td>\n",
       "      <td>1</td>\n",
       "      <td>3</td>\n",
       "    </tr>\n",
       "    <tr>\n",
       "      <th>4</th>\n",
       "      <td>3</td>\n",
       "      <td>2</td>\n",
       "      <td>3</td>\n",
       "      <td>1</td>\n",
       "      <td>2</td>\n",
       "      <td>1</td>\n",
       "    </tr>\n",
       "  </tbody>\n",
       "</table>\n",
       "</div>"
      ],
      "text/plain": [
       "   0  1  2  3  4  5\n",
       "0  2  3  1  1  3  2\n",
       "1  2  1  1  3  3  2\n",
       "2  2  2  1  2  2  2\n",
       "3  2  2  2  1  1  3\n",
       "4  3  2  3  1  2  1"
      ]
     },
     "execution_count": 158,
     "metadata": {},
     "output_type": "execute_result"
    }
   ],
   "source": [
    "me_mage_life = pd.DataFrame(np.random.randint(1,4, size=(10,6)))\n",
    "me_mage_life.head()\n"
   ]
  },
  {
   "cell_type": "code",
   "execution_count": 161,
   "metadata": {},
   "outputs": [
    {
     "data": {
      "text/plain": [
       "128"
      ]
     },
     "execution_count": 161,
     "metadata": {},
     "output_type": "execute_result"
    }
   ],
   "source": [
    "me_mage_hit.sum(axis=1).sum()"
   ]
  },
  {
   "cell_type": "code",
   "execution_count": 145,
   "metadata": {},
   "outputs": [
    {
     "data": {
      "text/html": [
       "<div>\n",
       "<style scoped>\n",
       "    .dataframe tbody tr th:only-of-type {\n",
       "        vertical-align: middle;\n",
       "    }\n",
       "\n",
       "    .dataframe tbody tr th {\n",
       "        vertical-align: top;\n",
       "    }\n",
       "\n",
       "    .dataframe thead th {\n",
       "        text-align: right;\n",
       "    }\n",
       "</style>\n",
       "<table border=\"1\" class=\"dataframe\">\n",
       "  <thead>\n",
       "    <tr style=\"text-align: right;\">\n",
       "      <th></th>\n",
       "      <th>0</th>\n",
       "      <th>1</th>\n",
       "      <th>2</th>\n",
       "      <th>3</th>\n",
       "    </tr>\n",
       "  </thead>\n",
       "  <tbody>\n",
       "    <tr>\n",
       "      <th>0</th>\n",
       "      <td>4</td>\n",
       "      <td>1</td>\n",
       "      <td>1</td>\n",
       "      <td>2</td>\n",
       "    </tr>\n",
       "    <tr>\n",
       "      <th>1</th>\n",
       "      <td>5</td>\n",
       "      <td>5</td>\n",
       "      <td>4</td>\n",
       "      <td>5</td>\n",
       "    </tr>\n",
       "    <tr>\n",
       "      <th>2</th>\n",
       "      <td>3</td>\n",
       "      <td>5</td>\n",
       "      <td>2</td>\n",
       "      <td>2</td>\n",
       "    </tr>\n",
       "    <tr>\n",
       "      <th>3</th>\n",
       "      <td>2</td>\n",
       "      <td>4</td>\n",
       "      <td>2</td>\n",
       "      <td>1</td>\n",
       "    </tr>\n",
       "    <tr>\n",
       "      <th>4</th>\n",
       "      <td>1</td>\n",
       "      <td>1</td>\n",
       "      <td>5</td>\n",
       "      <td>2</td>\n",
       "    </tr>\n",
       "  </tbody>\n",
       "</table>\n",
       "</div>"
      ],
      "text/plain": [
       "   0  1  2  3\n",
       "0  4  1  1  2\n",
       "1  5  5  4  5\n",
       "2  3  5  2  2\n",
       "3  2  4  2  1\n",
       "4  1  1  5  2"
      ]
     },
     "execution_count": 145,
     "metadata": {},
     "output_type": "execute_result"
    }
   ],
   "source": [
    "you_mage_hit=pd.DataFrame(np.random.randint(1,6, size=(10,4)))\n",
    "you_mage_hit.head()"
   ]
  },
  {
   "cell_type": "code",
   "execution_count": 162,
   "metadata": {},
   "outputs": [
    {
     "data": {
      "text/html": [
       "<div>\n",
       "<style scoped>\n",
       "    .dataframe tbody tr th:only-of-type {\n",
       "        vertical-align: middle;\n",
       "    }\n",
       "\n",
       "    .dataframe tbody tr th {\n",
       "        vertical-align: top;\n",
       "    }\n",
       "\n",
       "    .dataframe thead th {\n",
       "        text-align: right;\n",
       "    }\n",
       "</style>\n",
       "<table border=\"1\" class=\"dataframe\">\n",
       "  <thead>\n",
       "    <tr style=\"text-align: right;\">\n",
       "      <th></th>\n",
       "      <th>0</th>\n",
       "      <th>1</th>\n",
       "      <th>2</th>\n",
       "      <th>3</th>\n",
       "    </tr>\n",
       "  </thead>\n",
       "  <tbody>\n",
       "    <tr>\n",
       "      <th>0</th>\n",
       "      <td>3</td>\n",
       "      <td>2</td>\n",
       "      <td>5</td>\n",
       "      <td>3</td>\n",
       "    </tr>\n",
       "    <tr>\n",
       "      <th>1</th>\n",
       "      <td>1</td>\n",
       "      <td>5</td>\n",
       "      <td>3</td>\n",
       "      <td>5</td>\n",
       "    </tr>\n",
       "    <tr>\n",
       "      <th>2</th>\n",
       "      <td>1</td>\n",
       "      <td>2</td>\n",
       "      <td>2</td>\n",
       "      <td>1</td>\n",
       "    </tr>\n",
       "    <tr>\n",
       "      <th>3</th>\n",
       "      <td>3</td>\n",
       "      <td>5</td>\n",
       "      <td>3</td>\n",
       "      <td>5</td>\n",
       "    </tr>\n",
       "    <tr>\n",
       "      <th>4</th>\n",
       "      <td>5</td>\n",
       "      <td>3</td>\n",
       "      <td>1</td>\n",
       "      <td>5</td>\n",
       "    </tr>\n",
       "  </tbody>\n",
       "</table>\n",
       "</div>"
      ],
      "text/plain": [
       "   0  1  2  3\n",
       "0  3  2  5  3\n",
       "1  1  5  3  5\n",
       "2  1  2  2  1\n",
       "3  3  5  3  5\n",
       "4  5  3  1  5"
      ]
     },
     "execution_count": 162,
     "metadata": {},
     "output_type": "execute_result"
    }
   ],
   "source": [
    "you_mage_life=pd.DataFrame(np.random.randint(1,6, size=(10,4)))\n",
    "you_mage_life.head()"
   ]
  },
  {
   "cell_type": "markdown",
   "metadata": {},
   "source": []
  },
  {
   "cell_type": "code",
   "execution_count": 167,
   "metadata": {},
   "outputs": [
    {
     "ename": "NameError",
     "evalue": "name 'you_mage_hit' is not defined",
     "output_type": "error",
     "traceback": [
      "\u001b[0;31m---------------------------------------------------------------------------\u001b[0m",
      "\u001b[0;31mNameError\u001b[0m                                 Traceback (most recent call last)",
      "\u001b[0;32m/var/folders/mk/w2hz4wxx7xn5hr_56wz536gh0000gn/T/ipykernel_1134/3023212283.py\u001b[0m in \u001b[0;36m<module>\u001b[0;34m\u001b[0m\n\u001b[0;32m----> 1\u001b[0;31m \u001b[0mlifes\u001b[0m\u001b[0;34m=\u001b[0m\u001b[0myou_mage_hit\u001b[0m\u001b[0;34m.\u001b[0m\u001b[0msum\u001b[0m\u001b[0;34m(\u001b[0m\u001b[0maxis\u001b[0m\u001b[0;34m=\u001b[0m\u001b[0;36m1\u001b[0m\u001b[0;34m)\u001b[0m\u001b[0;34m.\u001b[0m\u001b[0msum\u001b[0m\u001b[0;34m(\u001b[0m\u001b[0;34m)\u001b[0m\u001b[0;34m-\u001b[0m\u001b[0mme_mage_life\u001b[0m\u001b[0;34m.\u001b[0m\u001b[0msum\u001b[0m\u001b[0;34m(\u001b[0m\u001b[0maxis\u001b[0m\u001b[0;34m=\u001b[0m\u001b[0;36m1\u001b[0m\u001b[0;34m)\u001b[0m\u001b[0;34m.\u001b[0m\u001b[0msum\u001b[0m\u001b[0;34m(\u001b[0m\u001b[0;34m)\u001b[0m\u001b[0;34m\u001b[0m\u001b[0;34m\u001b[0m\u001b[0m\n\u001b[0m\u001b[1;32m      2\u001b[0m \u001b[0mlifes\u001b[0m\u001b[0;34m.\u001b[0m\u001b[0msum\u001b[0m\u001b[0;34m(\u001b[0m\u001b[0;34m)\u001b[0m\u001b[0;34m\u001b[0m\u001b[0;34m\u001b[0m\u001b[0m\n",
      "\u001b[0;31mNameError\u001b[0m: name 'you_mage_hit' is not defined"
     ]
    }
   ],
   "source": [
    "lifes=you_mage_hit.sum(axis=1).sum()-me_mage_life.sum(axis=1).sum()\n",
    "lifes.sum()"
   ]
  }
 ],
 "metadata": {
  "interpreter": {
   "hash": "3067ead486e059ec00ffe7555bdb889e6e264a24dc711bf108106cc7baee8d5d"
  },
  "kernelspec": {
   "display_name": "Python 3.9.7 ('base')",
   "language": "python",
   "name": "python3"
  },
  "language_info": {
   "codemirror_mode": {
    "name": "ipython",
    "version": 3
   },
   "file_extension": ".py",
   "mimetype": "text/x-python",
   "name": "python",
   "nbconvert_exporter": "python",
   "pygments_lexer": "ipython3",
   "version": "3.9.7"
  },
  "orig_nbformat": 4
 },
 "nbformat": 4,
 "nbformat_minor": 2
}
