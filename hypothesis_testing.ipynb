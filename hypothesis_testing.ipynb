{
 "cells": [
  {
   "cell_type": "markdown",
   "metadata": {},
   "source": [
    "# Import"
   ]
  },
  {
   "cell_type": "code",
   "execution_count": 3,
   "metadata": {},
   "outputs": [],
   "source": [
    "import numpy as np\n",
    "import pandas as pd\n",
    "import matplotlib.pyplot as plt\n",
    "import seaborn as sns\n",
    "from scipy import stats\n",
    "from pydataset import data\n",
    "\n",
    "np.random.seed(123)"
   ]
  },
  {
   "cell_type": "markdown",
   "metadata": {},
   "source": [
    "# Hypotheses Testing"
   ]
  },
  {
   "cell_type": "markdown",
   "metadata": {},
   "source": [
    "##  $ \\textrm{Hypothesis Testing Phraseology} $"
   ]
  },
  {
   "cell_type": "markdown",
   "metadata": {},
   "source": [
    "<table align=\"center\" class=\"table table-bordered table-hover table table-sm\" style=\"width:60%;\">\n",
    "\t<thead>\n",
    "\t\t<tr>\n",
    "\t\t\t<th rowspan=\"2\" valign=\"bottom\">Decision</th>\n",
    "\t\t\t<th colspan=\"2\">Reality</th>\n",
    "\t\t</tr>\n",
    "\t\t<tr>\n",
    "\t\t\t<th><mjx-container class=\"MathJax CtxtMenu_Attached_0\" jax=\"SVG\" tabindex=\"0\" ctxtmenu_counter=\"10\" style=\"position: relative;\"><svg xmlns=\"http://www.w3.org/2000/svg\" width=\"2.868ex\" height=\"1.92ex\" role=\"img\" focusable=\"false\" viewBox=\"0 -683 1267.6 848.6\" xmlns:xlink=\"http://www.w3.org/1999/xlink\" aria-hidden=\"true\" style=\"vertical-align: -0.375ex;\"><g stroke=\"currentColor\" fill=\"currentColor\" stroke-width=\"0\" transform=\"scale(1,-1)\"><g data-mml-node=\"math\"><g data-mml-node=\"msub\"><g data-mml-node=\"mi\"><use data-c=\"1D43B\" xlink:href=\"#MJX-TEX-I-1D43B\"></use></g><g data-mml-node=\"mn\" transform=\"translate(864,-150) scale(0.707)\"><use data-c=\"30\" xlink:href=\"#MJX-TEX-N-30\"></use></g></g></g></g></svg><mjx-assistive-mml unselectable=\"on\" display=\"inline\"><math xmlns=\"http://www.w3.org/1998/Math/MathML\"><msub><mi>H</mi><mn>0</mn></msub></math></mjx-assistive-mml></mjx-container> is true</th>\n",
    "\t\t\t<th><mjx-container class=\"MathJax CtxtMenu_Attached_0\" jax=\"SVG\" tabindex=\"0\" ctxtmenu_counter=\"11\" style=\"position: relative;\"><svg xmlns=\"http://www.w3.org/2000/svg\" width=\"2.868ex\" height=\"1.92ex\" role=\"img\" focusable=\"false\" viewBox=\"0 -683 1267.6 848.6\" xmlns:xlink=\"http://www.w3.org/1999/xlink\" aria-hidden=\"true\" style=\"vertical-align: -0.375ex;\"><g stroke=\"currentColor\" fill=\"currentColor\" stroke-width=\"0\" transform=\"scale(1,-1)\"><g data-mml-node=\"math\"><g data-mml-node=\"msub\"><g data-mml-node=\"mi\"><use data-c=\"1D43B\" xlink:href=\"#MJX-TEX-I-1D43B\"></use></g><g data-mml-node=\"mn\" transform=\"translate(864,-150) scale(0.707)\"><use data-c=\"30\" xlink:href=\"#MJX-TEX-N-30\"></use></g></g></g></g></svg><mjx-assistive-mml unselectable=\"on\" display=\"inline\"><math xmlns=\"http://www.w3.org/1998/Math/MathML\"><msub><mi>H</mi><mn>0</mn></msub></math></mjx-assistive-mml></mjx-container> is false</th>\n",
    "\t\t</tr>\n",
    "\t\t<tr>\n",
    "\t\t\t<th scope=\"col\">Reject <mjx-container class=\"MathJax CtxtMenu_Attached_0\" jax=\"SVG\" tabindex=\"0\" ctxtmenu_counter=\"12\" style=\"position: relative;\"><svg xmlns=\"http://www.w3.org/2000/svg\" width=\"2.868ex\" height=\"1.92ex\" role=\"img\" focusable=\"false\" viewBox=\"0 -683 1267.6 848.6\" xmlns:xlink=\"http://www.w3.org/1999/xlink\" aria-hidden=\"true\" style=\"vertical-align: -0.375ex;\"><g stroke=\"currentColor\" fill=\"currentColor\" stroke-width=\"0\" transform=\"scale(1,-1)\"><g data-mml-node=\"math\"><g data-mml-node=\"msub\"><g data-mml-node=\"mi\"><use data-c=\"1D43B\" xlink:href=\"#MJX-TEX-I-1D43B\"></use></g><g data-mml-node=\"mn\" transform=\"translate(864,-150) scale(0.707)\"><use data-c=\"30\" xlink:href=\"#MJX-TEX-N-30\"></use></g></g></g></g></svg><mjx-assistive-mml unselectable=\"on\" display=\"inline\"><math xmlns=\"http://www.w3.org/1998/Math/MathML\"><msub><mi>H</mi><mn>0</mn></msub></math></mjx-assistive-mml></mjx-container>, (conclude <mjx-container class=\"MathJax CtxtMenu_Attached_0\" jax=\"SVG\" tabindex=\"0\" ctxtmenu_counter=\"13\" style=\"position: relative;\"><svg xmlns=\"http://www.w3.org/2000/svg\" width=\"2.914ex\" height=\"1.901ex\" role=\"img\" focusable=\"false\" viewBox=\"0 -683 1288.1 840.1\" xmlns:xlink=\"http://www.w3.org/1999/xlink\" aria-hidden=\"true\" style=\"vertical-align: -0.355ex;\"><g stroke=\"currentColor\" fill=\"currentColor\" stroke-width=\"0\" transform=\"scale(1,-1)\"><g data-mml-node=\"math\"><g data-mml-node=\"msub\"><g data-mml-node=\"mi\"><use data-c=\"1D43B\" xlink:href=\"#MJX-TEX-I-1D43B\"></use></g><g data-mml-node=\"mi\" transform=\"translate(864,-150) scale(0.707)\"><use data-c=\"1D44E\" xlink:href=\"#MJX-TEX-I-1D44E\"></use></g></g></g></g></svg><mjx-assistive-mml unselectable=\"on\" display=\"inline\"><math xmlns=\"http://www.w3.org/1998/Math/MathML\"><msub><mi>H</mi><mi>a</mi></msub></math></mjx-assistive-mml></mjx-container>)</th>\n",
    "\t\t\t<td class=\"table-danger\">Type I error</td>\n",
    "\t\t\t<td>True Positive </td>\n",
    "\t\t</tr>\n",
    "\t\t<tr>\n",
    "\t\t\t<th scope=\"col\">Fail to reject <mjx-container class=\"MathJax CtxtMenu_Attached_0\" jax=\"SVG\" tabindex=\"0\" ctxtmenu_counter=\"14\" style=\"position: relative;\"><svg xmlns=\"http://www.w3.org/2000/svg\" width=\"2.868ex\" height=\"1.92ex\" role=\"img\" focusable=\"false\" viewBox=\"0 -683 1267.6 848.6\" xmlns:xlink=\"http://www.w3.org/1999/xlink\" aria-hidden=\"true\" style=\"vertical-align: -0.375ex;\"><g stroke=\"currentColor\" fill=\"currentColor\" stroke-width=\"0\" transform=\"scale(1,-1)\"><g data-mml-node=\"math\"><g data-mml-node=\"msub\"><g data-mml-node=\"mi\"><use data-c=\"1D43B\" xlink:href=\"#MJX-TEX-I-1D43B\"></use></g><g data-mml-node=\"mn\" transform=\"translate(864,-150) scale(0.707)\"><use data-c=\"30\" xlink:href=\"#MJX-TEX-N-30\"></use></g></g></g></g></svg><mjx-assistive-mml unselectable=\"on\" display=\"inline\"><math xmlns=\"http://www.w3.org/1998/Math/MathML\"><msub><mi>H</mi><mn>0</mn></msub></math></mjx-assistive-mml></mjx-container></th>\n",
    "\t\t\t<td>True Negative</td>\n",
    "\t\t\t<td class=\"table-danger\">Type II error</td>\n",
    "\t\t</tr>\n",
    "\t</thead>\n",
    "</table>"
   ]
  },
  {
   "cell_type": "markdown",
   "metadata": {},
   "source": [
    "# Exercises"
   ]
  },
  {
   "cell_type": "markdown",
   "metadata": {},
   "source": [
    "## 1 - Has the network latency gone up since we switched internet service providers?"
   ]
  },
  {
   "cell_type": "markdown",
   "metadata": {},
   "source": [
    "$ H_0 = \\textrm{\"latency has remained constant through the switch\" }$"
   ]
  },
  {
   "cell_type": "markdown",
   "metadata": {},
   "source": [
    "$ H_1 = \\textrm{\"latency has NOT remained constant through the switch\" }$"
   ]
  },
  {
   "cell_type": "markdown",
   "metadata": {},
   "source": [
    "$\\textrm{True Positive : \"we REJECT }H_0\\textrm{ and are CORRECT, the latency DID NOT remain constant\" }$"
   ]
  },
  {
   "cell_type": "markdown",
   "metadata": {},
   "source": [
    "$\\textrm{True Negative : \"we ACCEPT }H_0\\textrm{ and are CORRECT, the latency remained constant\" }$"
   ]
  },
  {
   "cell_type": "markdown",
   "metadata": {},
   "source": [
    "$\\textrm{Type I Error : \"we REJECT }H_0\\textrm{ but are WRONG, the latency remained constant\" }$"
   ]
  },
  {
   "cell_type": "markdown",
   "metadata": {},
   "source": [
    "$\\textrm{Type II Error : \"we ACCEPT }H_0\\textrm{ but are WRONG, the latency DID NOT remain constant\" }$"
   ]
  },
  {
   "cell_type": "markdown",
   "metadata": {},
   "source": [
    "## 2 - Is the website redesign any good?"
   ]
  },
  {
   "cell_type": "markdown",
   "metadata": {},
   "source": [
    "$ H_0 = \\textrm{\"Visitor count WILL NOT increase after the redesign.\" }$"
   ]
  },
  {
   "cell_type": "markdown",
   "metadata": {},
   "source": [
    "$ H_1 = \\textrm{\"Visitor count WILL increase after the redesign.\" }$"
   ]
  },
  {
   "cell_type": "markdown",
   "metadata": {},
   "source": [
    "$\\textrm{True Positive : \"We REJECT }H_0\\textrm{ and are CORRECT, the count increased.\" }$"
   ]
  },
  {
   "cell_type": "markdown",
   "metadata": {},
   "source": [
    "$\\textrm{True Negative : \"We ACCEPT }H_0\\textrm{ and are CORRECT, the count DID NOT increase.\" }$"
   ]
  },
  {
   "cell_type": "markdown",
   "metadata": {},
   "source": [
    "$\\textrm{Type I Error : \"We REJECT }H_0\\textrm{ but are WRONG, the count DID NOT increase.\" }$"
   ]
  },
  {
   "cell_type": "markdown",
   "metadata": {},
   "source": [
    "$\\textrm{Type II Error : \"We ACCEPT }H_0\\textrm{ but are WRONG, the count increased\" }$"
   ]
  },
  {
   "cell_type": "markdown",
   "metadata": {},
   "source": [
    "## 3<sup>*</sup> - Is our television ad driving more sales?"
   ]
  },
  {
   "cell_type": "markdown",
   "metadata": {},
   "source": [
    "$ H_0 = \\textrm{\"Monthly sales WILL NOT increase after the ad is ran.\" }$"
   ]
  },
  {
   "cell_type": "markdown",
   "metadata": {},
   "source": [
    "$ H_1 = \\textrm{\"Monthly sales WILL increase after the ad is ran.\" }$"
   ]
  },
  {
   "cell_type": "markdown",
   "metadata": {},
   "source": [
    "$\\textrm{True Positive : \"We REJECT }H_0\\textrm{ and are CORRECT, the sales increased.\" }$"
   ]
  },
  {
   "cell_type": "markdown",
   "metadata": {},
   "source": [
    "$\\textrm{True Negative : \"We ACCEPT }H_0\\textrm{ and are CORRECT, the sales DID NOT increase.\" }$"
   ]
  },
  {
   "cell_type": "markdown",
   "metadata": {},
   "source": [
    "$\\textrm{Type I Error : \"We REJECT }H_0\\textrm{ but are WRONG, the sales DID NOT increase.\" }$"
   ]
  },
  {
   "cell_type": "markdown",
   "metadata": {},
   "source": [
    "$\\textrm{Type II Error : \"We ACCEPT }H_0\\textrm{ but are WRONG, the sales increased.\" }$"
   ]
  },
  {
   "cell_type": "markdown",
   "metadata": {},
   "source": [
    "### <sup>*</sup>- Best example so far."
   ]
  },
  {
   "cell_type": "markdown",
   "metadata": {},
   "source": [
    "# T-Test"
   ]
  },
  {
   "cell_type": "markdown",
   "metadata": {},
   "source": [
    "<table>\n",
    "<thead>\n",
    "<tr>\n",
    "<th>Goal</th>\n",
    "<th><span class=\"arithmatex\"><span class=\"MathJax_Preview\" style=\"color: inherit; display: none;\"></span><span id=\"MathJax-Element-1-Frame\" class=\"mjx-chtml MathJax_CHTML\" tabindex=\"0\" style=\"font-size: 121%; position: relative;\" data-mathml=\"<math xmlns=&quot;http://www.w3.org/1998/Math/MathML&quot;><msub><mi>H</mi><mrow class=&quot;MJX-TeXAtom-ORD&quot;><mn>0</mn></mrow></msub></math>\" role=\"presentation\"><span id=\"MJXc-Node-1\" class=\"mjx-math\" aria-hidden=\"true\"><span id=\"MJXc-Node-2\" class=\"mjx-mrow\"><span id=\"MJXc-Node-3\" class=\"mjx-msubsup\"><span class=\"mjx-base\" style=\"margin-right: -0.057em;\"><span id=\"MJXc-Node-4\" class=\"mjx-mi\"><span class=\"mjx-char MJXc-TeX-math-I\" style=\"padding-top: 0.455em; padding-bottom: 0.261em; padding-right: 0.057em;\">H</span></span></span><span class=\"mjx-sub\" style=\"font-size: 70.7%; vertical-align: -0.212em; padding-right: 0.071em;\"><span id=\"MJXc-Node-5\" class=\"mjx-texatom\" style=\"\"><span id=\"MJXc-Node-6\" class=\"mjx-mrow\"><span id=\"MJXc-Node-7\" class=\"mjx-mn\"><span class=\"mjx-char MJXc-TeX-main-R\" style=\"padding-top: 0.391em; padding-bottom: 0.391em;\">0</span></span></span></span></span></span></span></span><span class=\"MJX_Assistive_MathML\" role=\"presentation\"><math xmlns=\"http://www.w3.org/1998/Math/MathML\"><msub><mi>H</mi><mrow class=\"MJX-TeXAtom-ORD\"><mn>0</mn></mrow></msub></math></span></span><script type=\"math/tex\" id=\"MathJax-Element-1\">H_{0}</script></span></th>\n",
    "<th>Data Needed</th>\n",
    "<th>Parametric Test</th>\n",
    "<th>Assumptions*</th>\n",
    "<th>Non-parametric Test</th>\n",
    "</tr>\n",
    "</thead>\n",
    "<tbody>\n",
    "<tr>\n",
    "<td>Compare observed mean to theoretical one</td>\n",
    "<td><span class=\"arithmatex\"><span class=\"MathJax_Preview\" style=\"color: inherit; display: none;\"></span><span id=\"MathJax-Element-2-Frame\" class=\"mjx-chtml MathJax_CHTML\" tabindex=\"0\" style=\"font-size: 121%; position: relative;\" data-mathml=\"<math xmlns=&quot;http://www.w3.org/1998/Math/MathML&quot;><msub><mi>&amp;#x03BC;</mi><mrow class=&quot;MJX-TeXAtom-ORD&quot;><mi>o</mi><mi>b</mi><mi>s</mi></mrow></msub><mo>=</mo><msub><mi>&amp;#x03BC;</mi><mrow class=&quot;MJX-TeXAtom-ORD&quot;><mi>t</mi><mi>h</mi></mrow></msub></math>\" role=\"presentation\"><span id=\"MJXc-Node-8\" class=\"mjx-math\" aria-hidden=\"true\"><span id=\"MJXc-Node-9\" class=\"mjx-mrow\"><span id=\"MJXc-Node-10\" class=\"mjx-msubsup\"><span class=\"mjx-base\"><span id=\"MJXc-Node-11\" class=\"mjx-mi\"><span class=\"mjx-char MJXc-TeX-math-I\" style=\"padding-top: 0.197em; padding-bottom: 0.52em;\">μ</span></span></span><span class=\"mjx-sub\" style=\"font-size: 70.7%; vertical-align: -0.219em; padding-right: 0.071em;\"><span id=\"MJXc-Node-12\" class=\"mjx-texatom\" style=\"\"><span id=\"MJXc-Node-13\" class=\"mjx-mrow\"><span id=\"MJXc-Node-14\" class=\"mjx-mi\"><span class=\"mjx-char MJXc-TeX-math-I\" style=\"padding-top: 0.197em; padding-bottom: 0.261em;\">o</span></span><span id=\"MJXc-Node-15\" class=\"mjx-mi\"><span class=\"mjx-char MJXc-TeX-math-I\" style=\"padding-top: 0.455em; padding-bottom: 0.261em;\">b</span></span><span id=\"MJXc-Node-16\" class=\"mjx-mi\"><span class=\"mjx-char MJXc-TeX-math-I\" style=\"padding-top: 0.197em; padding-bottom: 0.261em;\">s</span></span></span></span></span></span><span id=\"MJXc-Node-17\" class=\"mjx-mo MJXc-space3\"><span class=\"mjx-char MJXc-TeX-main-R\" style=\"padding-top: 0.068em; padding-bottom: 0.326em;\">=</span></span><span id=\"MJXc-Node-18\" class=\"mjx-msubsup MJXc-space3\"><span class=\"mjx-base\"><span id=\"MJXc-Node-19\" class=\"mjx-mi\"><span class=\"mjx-char MJXc-TeX-math-I\" style=\"padding-top: 0.197em; padding-bottom: 0.52em;\">μ</span></span></span><span class=\"mjx-sub\" style=\"font-size: 70.7%; vertical-align: -0.219em; padding-right: 0.071em;\"><span id=\"MJXc-Node-20\" class=\"mjx-texatom\" style=\"\"><span id=\"MJXc-Node-21\" class=\"mjx-mrow\"><span id=\"MJXc-Node-22\" class=\"mjx-mi\"><span class=\"mjx-char MJXc-TeX-math-I\" style=\"padding-top: 0.391em; padding-bottom: 0.261em;\">t</span></span><span id=\"MJXc-Node-23\" class=\"mjx-mi\"><span class=\"mjx-char MJXc-TeX-math-I\" style=\"padding-top: 0.455em; padding-bottom: 0.261em;\">h</span></span></span></span></span></span></span></span><span class=\"MJX_Assistive_MathML\" role=\"presentation\"><math xmlns=\"http://www.w3.org/1998/Math/MathML\"><msub><mi>μ</mi><mrow class=\"MJX-TeXAtom-ORD\"><mi>o</mi><mi>b</mi><mi>s</mi></mrow></msub><mo>=</mo><msub><mi>μ</mi><mrow class=\"MJX-TeXAtom-ORD\"><mi>t</mi><mi>h</mi></mrow></msub></math></span></span><script type=\"math/tex\" id=\"MathJax-Element-2\">\\mu_{obs} = \\mu_{th}</script></span></td>\n",
    "<td>array-like of observed values &amp; float of theoretical</td>\n",
    "<td>One sample t-test: scipy.stats.ttest_1samp</td>\n",
    "<td>Normally Distributed**</td>\n",
    "<td>One sample Wilcoxon signed rank test</td>\n",
    "</tr>\n",
    "<tr>\n",
    "<td>Compare two observed means (independent samples)</td>\n",
    "<td><span class=\"arithmatex\"><span class=\"MathJax_Preview\" style=\"color: inherit; display: none;\"></span><span id=\"MathJax-Element-3-Frame\" class=\"mjx-chtml MathJax_CHTML\" tabindex=\"0\" style=\"font-size: 121%; position: relative;\" data-mathml=\"<math xmlns=&quot;http://www.w3.org/1998/Math/MathML&quot;><msub><mi>&amp;#x03BC;</mi><mrow class=&quot;MJX-TeXAtom-ORD&quot;><mi>a</mi></mrow></msub><mo>=</mo><msub><mi>&amp;#x03BC;</mi><mrow class=&quot;MJX-TeXAtom-ORD&quot;><mi>b</mi></mrow></msub></math>\" role=\"presentation\"><span id=\"MJXc-Node-24\" class=\"mjx-math\" aria-hidden=\"true\"><span id=\"MJXc-Node-25\" class=\"mjx-mrow\"><span id=\"MJXc-Node-26\" class=\"mjx-msubsup\"><span class=\"mjx-base\"><span id=\"MJXc-Node-27\" class=\"mjx-mi\"><span class=\"mjx-char MJXc-TeX-math-I\" style=\"padding-top: 0.197em; padding-bottom: 0.52em;\">μ</span></span></span><span class=\"mjx-sub\" style=\"font-size: 70.7%; vertical-align: -0.212em; padding-right: 0.071em;\"><span id=\"MJXc-Node-28\" class=\"mjx-texatom\" style=\"\"><span id=\"MJXc-Node-29\" class=\"mjx-mrow\"><span id=\"MJXc-Node-30\" class=\"mjx-mi\"><span class=\"mjx-char MJXc-TeX-math-I\" style=\"padding-top: 0.197em; padding-bottom: 0.261em;\">a</span></span></span></span></span></span><span id=\"MJXc-Node-31\" class=\"mjx-mo MJXc-space3\"><span class=\"mjx-char MJXc-TeX-main-R\" style=\"padding-top: 0.068em; padding-bottom: 0.326em;\">=</span></span><span id=\"MJXc-Node-32\" class=\"mjx-msubsup MJXc-space3\"><span class=\"mjx-base\"><span id=\"MJXc-Node-33\" class=\"mjx-mi\"><span class=\"mjx-char MJXc-TeX-math-I\" style=\"padding-top: 0.197em; padding-bottom: 0.52em;\">μ</span></span></span><span class=\"mjx-sub\" style=\"font-size: 70.7%; vertical-align: -0.219em; padding-right: 0.071em;\"><span id=\"MJXc-Node-34\" class=\"mjx-texatom\" style=\"\"><span id=\"MJXc-Node-35\" class=\"mjx-mrow\"><span id=\"MJXc-Node-36\" class=\"mjx-mi\"><span class=\"mjx-char MJXc-TeX-math-I\" style=\"padding-top: 0.455em; padding-bottom: 0.261em;\">b</span></span></span></span></span></span></span></span><span class=\"MJX_Assistive_MathML\" role=\"presentation\"><math xmlns=\"http://www.w3.org/1998/Math/MathML\"><msub><mi>μ</mi><mrow class=\"MJX-TeXAtom-ORD\"><mi>a</mi></mrow></msub><mo>=</mo><msub><mi>μ</mi><mrow class=\"MJX-TeXAtom-ORD\"><mi>b</mi></mrow></msub></math></span></span><script type=\"math/tex\" id=\"MathJax-Element-3\">\\mu_{a} = \\mu_{b}</script></span></td>\n",
    "<td>2 array-like samples</td>\n",
    "<td>Independent t-test (or 2-sample): scipy.stats.ttest_ind</td>\n",
    "<td>Independent, Normally Distributed**, Equal Variances***</td>\n",
    "<td>Mann-Whitney's test</td>\n",
    "</tr>\n",
    "<tr>\n",
    "<td>Compare several observed means (independent samples)</td>\n",
    "<td><span class=\"arithmatex\"><span class=\"MathJax_Preview\" style=\"color: inherit; display: none;\"></span><span id=\"MathJax-Element-4-Frame\" class=\"mjx-chtml MathJax_CHTML\" tabindex=\"0\" style=\"font-size: 121%; position: relative;\" data-mathml=\"<math xmlns=&quot;http://www.w3.org/1998/Math/MathML&quot;><msub><mi>&amp;#x03BC;</mi><mrow class=&quot;MJX-TeXAtom-ORD&quot;><mi>a</mi></mrow></msub><mo>=</mo><msub><mi>&amp;#x03BC;</mi><mrow class=&quot;MJX-TeXAtom-ORD&quot;><mi>b</mi></mrow></msub><mo>=</mo><msub><mi>&amp;#x03BC;</mi><mrow class=&quot;MJX-TeXAtom-ORD&quot;><mi>n</mi></mrow></msub></math>\" role=\"presentation\"><span id=\"MJXc-Node-37\" class=\"mjx-math\" aria-hidden=\"true\"><span id=\"MJXc-Node-38\" class=\"mjx-mrow\"><span id=\"MJXc-Node-39\" class=\"mjx-msubsup\"><span class=\"mjx-base\"><span id=\"MJXc-Node-40\" class=\"mjx-mi\"><span class=\"mjx-char MJXc-TeX-math-I\" style=\"padding-top: 0.197em; padding-bottom: 0.52em;\">μ</span></span></span><span class=\"mjx-sub\" style=\"font-size: 70.7%; vertical-align: -0.212em; padding-right: 0.071em;\"><span id=\"MJXc-Node-41\" class=\"mjx-texatom\" style=\"\"><span id=\"MJXc-Node-42\" class=\"mjx-mrow\"><span id=\"MJXc-Node-43\" class=\"mjx-mi\"><span class=\"mjx-char MJXc-TeX-math-I\" style=\"padding-top: 0.197em; padding-bottom: 0.261em;\">a</span></span></span></span></span></span><span id=\"MJXc-Node-44\" class=\"mjx-mo MJXc-space3\"><span class=\"mjx-char MJXc-TeX-main-R\" style=\"padding-top: 0.068em; padding-bottom: 0.326em;\">=</span></span><span id=\"MJXc-Node-45\" class=\"mjx-msubsup MJXc-space3\"><span class=\"mjx-base\"><span id=\"MJXc-Node-46\" class=\"mjx-mi\"><span class=\"mjx-char MJXc-TeX-math-I\" style=\"padding-top: 0.197em; padding-bottom: 0.52em;\">μ</span></span></span><span class=\"mjx-sub\" style=\"font-size: 70.7%; vertical-align: -0.219em; padding-right: 0.071em;\"><span id=\"MJXc-Node-47\" class=\"mjx-texatom\" style=\"\"><span id=\"MJXc-Node-48\" class=\"mjx-mrow\"><span id=\"MJXc-Node-49\" class=\"mjx-mi\"><span class=\"mjx-char MJXc-TeX-math-I\" style=\"padding-top: 0.455em; padding-bottom: 0.261em;\">b</span></span></span></span></span></span><span id=\"MJXc-Node-50\" class=\"mjx-mo MJXc-space3\"><span class=\"mjx-char MJXc-TeX-main-R\" style=\"padding-top: 0.068em; padding-bottom: 0.326em;\">=</span></span><span id=\"MJXc-Node-51\" class=\"mjx-msubsup MJXc-space3\"><span class=\"mjx-base\"><span id=\"MJXc-Node-52\" class=\"mjx-mi\"><span class=\"mjx-char MJXc-TeX-math-I\" style=\"padding-top: 0.197em; padding-bottom: 0.52em;\">μ</span></span></span><span class=\"mjx-sub\" style=\"font-size: 70.7%; vertical-align: -0.212em; padding-right: 0.071em;\"><span id=\"MJXc-Node-53\" class=\"mjx-texatom\" style=\"\"><span id=\"MJXc-Node-54\" class=\"mjx-mrow\"><span id=\"MJXc-Node-55\" class=\"mjx-mi\"><span class=\"mjx-char MJXc-TeX-math-I\" style=\"padding-top: 0.197em; padding-bottom: 0.261em;\">n</span></span></span></span></span></span></span></span><span class=\"MJX_Assistive_MathML\" role=\"presentation\"><math xmlns=\"http://www.w3.org/1998/Math/MathML\"><msub><mi>μ</mi><mrow class=\"MJX-TeXAtom-ORD\"><mi>a</mi></mrow></msub><mo>=</mo><msub><mi>μ</mi><mrow class=\"MJX-TeXAtom-ORD\"><mi>b</mi></mrow></msub><mo>=</mo><msub><mi>μ</mi><mrow class=\"MJX-TeXAtom-ORD\"><mi>n</mi></mrow></msub></math></span></span><script type=\"math/tex\" id=\"MathJax-Element-4\">\\mu_{a} = \\mu_{b} = \\mu_{n}</script></span></td>\n",
    "<td>n array-like samples</td>\n",
    "<td>ANOVA: scipy.stats.f_oneway</td>\n",
    "<td>Independent, Normally Distributed**, Equal Variances</td>\n",
    "<td>Kruskal-Wallis test</td>\n",
    "</tr>\n",
    "</tbody>\n",
    "</table>"
   ]
  },
  {
   "cell_type": "markdown",
   "metadata": {},
   "source": [
    "# Exercises"
   ]
  },
  {
   "cell_type": "markdown",
   "metadata": {},
   "source": [
    "## 1"
   ]
  },
  {
   "cell_type": "markdown",
   "metadata": {},
   "source": [
    "$ H_0 = \\textrm{\"Office's A and B take EQUAL amounts of time to sell homes.\" }$"
   ]
  },
  {
   "cell_type": "markdown",
   "metadata": {},
   "source": [
    "$ H_1 = \\textrm{\"Office's A and B take DIFFERENT amounts of time to sell homes.\" }$"
   ]
  },
  {
   "cell_type": "code",
   "execution_count": 5,
   "metadata": {},
   "outputs": [],
   "source": [
    "α=0.05"
   ]
  },
  {
   "cell_type": "code",
   "execution_count": 8,
   "metadata": {},
   "outputs": [],
   "source": [
    "office_one=stats.norm(90,15).rvs(40)"
   ]
  },
  {
   "cell_type": "code",
   "execution_count": 9,
   "metadata": {},
   "outputs": [],
   "source": [
    "office_two=stats.norm(100,20).rvs(50)"
   ]
  },
  {
   "cell_type": "code",
   "execution_count": 24,
   "metadata": {},
   "outputs": [
    {
     "data": {
      "text/plain": [
       "<seaborn.axisgrid.FacetGrid at 0x7fe4808a3880>"
      ]
     },
     "execution_count": 24,
     "metadata": {},
     "output_type": "execute_result"
    },
    {
     "data": {
      "image/png": "[encoded data removed]",
      "text/plain": [
       "<Figure size 360x360 with 1 Axes>"
      ]
     },
     "metadata": {
      "needs_background": "light"
     },
     "output_type": "display_data"
    }
   ],
   "source": [
    "sns.displot(office_one)"
   ]
  },
  {
   "cell_type": "code",
   "execution_count": 25,
   "metadata": {},
   "outputs": [
    {
     "data": {
      "text/plain": [
       "<seaborn.axisgrid.FacetGrid at 0x7fe489433ac0>"
      ]
     },
     "execution_count": 25,
     "metadata": {},
     "output_type": "execute_result"
    },
    {
     "data": {
      "image/png": "[encoded data removed]",
      "text/plain": [
       "<Figure size 360x360 with 1 Axes>"
      ]
     },
     "metadata": {
      "needs_background": "light"
     },
     "output_type": "display_data"
    }
   ],
   "source": [
    "sns.displot(office_two)"
   ]
  },
  {
   "cell_type": "code",
   "execution_count": 27,
   "metadata": {},
   "outputs": [
    {
     "data": {
      "text/plain": [
       "282.2599600468413"
      ]
     },
     "execution_count": 27,
     "metadata": {},
     "output_type": "execute_result"
    }
   ],
   "source": [
    "office_one.var()"
   ]
  },
  {
   "cell_type": "code",
   "execution_count": 26,
   "metadata": {},
   "outputs": [
    {
     "data": {
      "text/plain": [
       "465.82840550772147"
      ]
     },
     "execution_count": 26,
     "metadata": {},
     "output_type": "execute_result"
    }
   ],
   "source": [
    "office_two.var()"
   ]
  },
  {
   "cell_type": "code",
   "execution_count": 31,
   "metadata": {},
   "outputs": [
    {
     "data": {
      "text/plain": [
       "(-2.2763837921193604, 0.025249400299869263)"
      ]
     },
     "execution_count": 31,
     "metadata": {},
     "output_type": "execute_result"
    }
   ],
   "source": [
    "t, p = stats.ttest_ind(office_one, office_two)\n",
    "\n",
    "t, p\n"
   ]
  },
  {
   "cell_type": "code",
   "execution_count": 32,
   "metadata": {},
   "outputs": [
    {
     "name": "stdout",
     "output_type": "stream",
     "text": [
      "Most likely: H_1\n"
     ]
    }
   ],
   "source": [
    "if p < α:\n",
    "\tprint(f'Most likely: H_1')\n",
    "else:\n",
    "\tprint('Most likely: H_0')"
   ]
  },
  {
   "cell_type": "markdown",
   "metadata": {},
   "source": [
    "## 2"
   ]
  },
  {
   "cell_type": "code",
   "execution_count": 85,
   "metadata": {},
   "outputs": [],
   "source": [
    "df = data('mpg')"
   ]
  },
  {
   "cell_type": "code",
   "execution_count": 86,
   "metadata": {},
   "outputs": [
    {
     "name": "stdout",
     "output_type": "stream",
     "text": [
      "<class 'pandas.core.frame.DataFrame'>\n",
      "Int64Index: 234 entries, 1 to 234\n",
      "Data columns (total 11 columns):\n",
      " #   Column        Non-Null Count  Dtype  \n",
      "---  ------        --------------  -----  \n",
      " 0   manufacturer  234 non-null    object \n",
      " 1   model         234 non-null    object \n",
      " 2   displ         234 non-null    float64\n",
      " 3   year          234 non-null    int64  \n",
      " 4   cyl           234 non-null    int64  \n",
      " 5   trans         234 non-null    object \n",
      " 6   drv           234 non-null    object \n",
      " 7   cty           234 non-null    int64  \n",
      " 8   hwy           234 non-null    int64  \n",
      " 9   fl            234 non-null    object \n",
      " 10  class         234 non-null    object \n",
      "dtypes: float64(1), int64(4), object(6)\n",
      "memory usage: 21.9+ KB\n"
     ]
    }
   ],
   "source": [
    "df.info()"
   ]
  },
  {
   "cell_type": "code",
   "execution_count": 106,
   "metadata": {},
   "outputs": [
    {
     "data": {
      "text/html": [
       "<div>\n",
       "<style scoped>\n",
       "    .dataframe tbody tr th:only-of-type {\n",
       "        vertical-align: middle;\n",
       "    }\n",
       "\n",
       "    .dataframe tbody tr th {\n",
       "        vertical-align: top;\n",
       "    }\n",
       "\n",
       "    .dataframe thead th {\n",
       "        text-align: right;\n",
       "    }\n",
       "</style>\n",
       "<table border=\"1\" class=\"dataframe\">\n",
       "  <thead>\n",
       "    <tr style=\"text-align: right;\">\n",
       "      <th></th>\n",
       "      <th>manufacturer</th>\n",
       "      <th>model</th>\n",
       "      <th>displ</th>\n",
       "      <th>year</th>\n",
       "      <th>cyl</th>\n",
       "      <th>trans</th>\n",
       "      <th>drv</th>\n",
       "      <th>cty</th>\n",
       "      <th>hwy</th>\n",
       "      <th>fl</th>\n",
       "      <th>class</th>\n",
       "      <th>fe</th>\n",
       "    </tr>\n",
       "  </thead>\n",
       "  <tbody>\n",
       "    <tr>\n",
       "      <th>1</th>\n",
       "      <td>audi</td>\n",
       "      <td>a4</td>\n",
       "      <td>1.8</td>\n",
       "      <td>1999</td>\n",
       "      <td>4</td>\n",
       "      <td>auto(l5)</td>\n",
       "      <td>f</td>\n",
       "      <td>18</td>\n",
       "      <td>29</td>\n",
       "      <td>p</td>\n",
       "      <td>compact</td>\n",
       "      <td>23.5</td>\n",
       "    </tr>\n",
       "    <tr>\n",
       "      <th>2</th>\n",
       "      <td>audi</td>\n",
       "      <td>a4</td>\n",
       "      <td>1.8</td>\n",
       "      <td>1999</td>\n",
       "      <td>4</td>\n",
       "      <td>manual(m5)</td>\n",
       "      <td>f</td>\n",
       "      <td>21</td>\n",
       "      <td>29</td>\n",
       "      <td>p</td>\n",
       "      <td>compact</td>\n",
       "      <td>25.0</td>\n",
       "    </tr>\n",
       "    <tr>\n",
       "      <th>3</th>\n",
       "      <td>audi</td>\n",
       "      <td>a4</td>\n",
       "      <td>2.0</td>\n",
       "      <td>2008</td>\n",
       "      <td>4</td>\n",
       "      <td>manual(m6)</td>\n",
       "      <td>f</td>\n",
       "      <td>20</td>\n",
       "      <td>31</td>\n",
       "      <td>p</td>\n",
       "      <td>compact</td>\n",
       "      <td>25.5</td>\n",
       "    </tr>\n",
       "    <tr>\n",
       "      <th>4</th>\n",
       "      <td>audi</td>\n",
       "      <td>a4</td>\n",
       "      <td>2.0</td>\n",
       "      <td>2008</td>\n",
       "      <td>4</td>\n",
       "      <td>auto(av)</td>\n",
       "      <td>f</td>\n",
       "      <td>21</td>\n",
       "      <td>30</td>\n",
       "      <td>p</td>\n",
       "      <td>compact</td>\n",
       "      <td>25.5</td>\n",
       "    </tr>\n",
       "    <tr>\n",
       "      <th>5</th>\n",
       "      <td>audi</td>\n",
       "      <td>a4</td>\n",
       "      <td>2.8</td>\n",
       "      <td>1999</td>\n",
       "      <td>6</td>\n",
       "      <td>auto(l5)</td>\n",
       "      <td>f</td>\n",
       "      <td>16</td>\n",
       "      <td>26</td>\n",
       "      <td>p</td>\n",
       "      <td>compact</td>\n",
       "      <td>21.0</td>\n",
       "    </tr>\n",
       "  </tbody>\n",
       "</table>\n",
       "</div>"
      ],
      "text/plain": [
       "  manufacturer model  displ  year  cyl       trans drv  cty  hwy fl    class  \\\n",
       "1         audi    a4    1.8  1999    4    auto(l5)   f   18   29  p  compact   \n",
       "2         audi    a4    1.8  1999    4  manual(m5)   f   21   29  p  compact   \n",
       "3         audi    a4    2.0  2008    4  manual(m6)   f   20   31  p  compact   \n",
       "4         audi    a4    2.0  2008    4    auto(av)   f   21   30  p  compact   \n",
       "5         audi    a4    2.8  1999    6    auto(l5)   f   16   26  p  compact   \n",
       "\n",
       "     fe  \n",
       "1  23.5  \n",
       "2  25.0  \n",
       "3  25.5  \n",
       "4  25.5  \n",
       "5  21.0  "
      ]
     },
     "execution_count": 106,
     "metadata": {},
     "output_type": "execute_result"
    }
   ],
   "source": [
    "df.head(5)"
   ]
  },
  {
   "cell_type": "markdown",
   "metadata": {},
   "source": [
    "### 2.a"
   ]
  },
  {
   "cell_type": "markdown",
   "metadata": {},
   "source": [
    "$ H_0 = \\textrm{\"2008 and 1999 cars have EQUIVALENT fuel efficiency.\" }$"
   ]
  },
  {
   "cell_type": "markdown",
   "metadata": {},
   "source": [
    "$ H_1 = \\textrm{\"2008 and 1999 cars have DIFFERENT fuel efficiency.\" }$"
   ]
  },
  {
   "cell_type": "code",
   "execution_count": 105,
   "metadata": {},
   "outputs": [],
   "source": [
    "df['fe']=(df['cty']+df['hwy'])/2"
   ]
  },
  {
   "cell_type": "code",
   "execution_count": 109,
   "metadata": {},
   "outputs": [
    {
     "data": {
      "text/plain": [
       "3     25.5\n",
       "4     25.5\n",
       "7     22.5\n",
       "10    24.0\n",
       "11    23.0\n",
       "Name: fe, dtype: float64"
      ]
     },
     "execution_count": 109,
     "metadata": {},
     "output_type": "execute_result"
    }
   ],
   "source": [
    "fe_2008=df.fe[df.year==2008]\n",
    "fe_2008.head()"
   ]
  },
  {
   "cell_type": "code",
   "execution_count": 110,
   "metadata": {},
   "outputs": [
    {
     "data": {
      "text/plain": [
       "1    23.5\n",
       "2    25.0\n",
       "5    21.0\n",
       "6    22.0\n",
       "8    22.0\n",
       "Name: fe, dtype: float64"
      ]
     },
     "execution_count": 110,
     "metadata": {},
     "output_type": "execute_result"
    }
   ],
   "source": [
    "fe_1999=df.fe[df.year==1999]\n",
    "fe_1999.head()"
   ]
  },
  {
   "cell_type": "code",
   "execution_count": 111,
   "metadata": {},
   "outputs": [
    {
     "data": {
      "text/plain": [
       "<seaborn.axisgrid.FacetGrid at 0x7fe45910af40>"
      ]
     },
     "execution_count": 111,
     "metadata": {},
     "output_type": "execute_result"
    },
    {
     "data": {
      "image/png": "[encoded data removed]",
      "text/plain": [
       "<Figure size 360x360 with 1 Axes>"
      ]
     },
     "metadata": {
      "needs_background": "light"
     },
     "output_type": "display_data"
    }
   ],
   "source": [
    "sns.displot(fe_2008)"
   ]
  },
  {
   "cell_type": "code",
   "execution_count": 112,
   "metadata": {},
   "outputs": [
    {
     "data": {
      "text/plain": [
       "<seaborn.axisgrid.FacetGrid at 0x7fe48152d2b0>"
      ]
     },
     "execution_count": 112,
     "metadata": {},
     "output_type": "execute_result"
    },
    {
     "data": {
      "image/png": "[encoded data removed]",
      "text/plain": [
       "<Figure size 360x360 with 1 Axes>"
      ]
     },
     "metadata": {
      "needs_background": "light"
     },
     "output_type": "display_data"
    }
   ],
   "source": [
    "sns.displot(fe_1999)"
   ]
  },
  {
   "cell_type": "code",
   "execution_count": 113,
   "metadata": {},
   "outputs": [
    {
     "data": {
      "text/plain": [
       "24.097480106100797"
      ]
     },
     "execution_count": 113,
     "metadata": {},
     "output_type": "execute_result"
    }
   ],
   "source": [
    "fe_2008.var()"
   ]
  },
  {
   "cell_type": "code",
   "execution_count": 115,
   "metadata": {},
   "outputs": [
    {
     "data": {
      "text/plain": [
       "27.122605363984682"
      ]
     },
     "execution_count": 115,
     "metadata": {},
     "output_type": "execute_result"
    }
   ],
   "source": [
    "fe_1999.var()"
   ]
  }
 ],
 "metadata": {
  "interpreter": {
   "hash": "3067ead486e059ec00ffe7555bdb889e6e264a24dc711bf108106cc7baee8d5d"
  },
  "kernelspec": {
   "display_name": "Python 3.9.7 ('base')",
   "language": "python",
   "name": "python3"
  },
  "language_info": {
   "codemirror_mode": {
    "name": "ipython",
    "version": 3
   },
   "file_extension": ".py",
   "mimetype": "text/x-python",
   "name": "python",
   "nbconvert_exporter": "python",
   "pygments_lexer": "ipython3",
   "version": "3.9.7"
  },
  "orig_nbformat": 4
 },
 "nbformat": 4,
 "nbformat_minor": 2
}
