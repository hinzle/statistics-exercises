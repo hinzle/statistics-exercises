{
 "cells": [
  {
   "cell_type": "markdown",
   "metadata": {},
   "source": [
    "# Hypotheses Testing"
   ]
  },
  {
   "cell_type": "markdown",
   "metadata": {},
   "source": [
    "##  $ \\textrm{Hypothesis Testing Phraseology} $"
   ]
  },
  {
   "cell_type": "markdown",
   "metadata": {},
   "source": [
    "<table align=\"center\" class=\"table table-bordered table-hover table table-sm\" style=\"width:60%;\">\n",
    "\t<thead>\n",
    "\t\t<tr>\n",
    "\t\t\t<th rowspan=\"2\" valign=\"bottom\">Decision</th>\n",
    "\t\t\t<th colspan=\"2\">Reality</th>\n",
    "\t\t</tr>\n",
    "\t\t<tr>\n",
    "\t\t\t<th><mjx-container class=\"MathJax CtxtMenu_Attached_0\" jax=\"SVG\" tabindex=\"0\" ctxtmenu_counter=\"10\" style=\"position: relative;\"><svg xmlns=\"http://www.w3.org/2000/svg\" width=\"2.868ex\" height=\"1.92ex\" role=\"img\" focusable=\"false\" viewBox=\"0 -683 1267.6 848.6\" xmlns:xlink=\"http://www.w3.org/1999/xlink\" aria-hidden=\"true\" style=\"vertical-align: -0.375ex;\"><g stroke=\"currentColor\" fill=\"currentColor\" stroke-width=\"0\" transform=\"scale(1,-1)\"><g data-mml-node=\"math\"><g data-mml-node=\"msub\"><g data-mml-node=\"mi\"><use data-c=\"1D43B\" xlink:href=\"#MJX-TEX-I-1D43B\"></use></g><g data-mml-node=\"mn\" transform=\"translate(864,-150) scale(0.707)\"><use data-c=\"30\" xlink:href=\"#MJX-TEX-N-30\"></use></g></g></g></g></svg><mjx-assistive-mml unselectable=\"on\" display=\"inline\"><math xmlns=\"http://www.w3.org/1998/Math/MathML\"><msub><mi>H</mi><mn>0</mn></msub></math></mjx-assistive-mml></mjx-container> is true</th>\n",
    "\t\t\t<th><mjx-container class=\"MathJax CtxtMenu_Attached_0\" jax=\"SVG\" tabindex=\"0\" ctxtmenu_counter=\"11\" style=\"position: relative;\"><svg xmlns=\"http://www.w3.org/2000/svg\" width=\"2.868ex\" height=\"1.92ex\" role=\"img\" focusable=\"false\" viewBox=\"0 -683 1267.6 848.6\" xmlns:xlink=\"http://www.w3.org/1999/xlink\" aria-hidden=\"true\" style=\"vertical-align: -0.375ex;\"><g stroke=\"currentColor\" fill=\"currentColor\" stroke-width=\"0\" transform=\"scale(1,-1)\"><g data-mml-node=\"math\"><g data-mml-node=\"msub\"><g data-mml-node=\"mi\"><use data-c=\"1D43B\" xlink:href=\"#MJX-TEX-I-1D43B\"></use></g><g data-mml-node=\"mn\" transform=\"translate(864,-150) scale(0.707)\"><use data-c=\"30\" xlink:href=\"#MJX-TEX-N-30\"></use></g></g></g></g></svg><mjx-assistive-mml unselectable=\"on\" display=\"inline\"><math xmlns=\"http://www.w3.org/1998/Math/MathML\"><msub><mi>H</mi><mn>0</mn></msub></math></mjx-assistive-mml></mjx-container> is false</th>\n",
    "\t\t</tr>\n",
    "\t\t<tr>\n",
    "\t\t\t<th scope=\"col\">Reject <mjx-container class=\"MathJax CtxtMenu_Attached_0\" jax=\"SVG\" tabindex=\"0\" ctxtmenu_counter=\"12\" style=\"position: relative;\"><svg xmlns=\"http://www.w3.org/2000/svg\" width=\"2.868ex\" height=\"1.92ex\" role=\"img\" focusable=\"false\" viewBox=\"0 -683 1267.6 848.6\" xmlns:xlink=\"http://www.w3.org/1999/xlink\" aria-hidden=\"true\" style=\"vertical-align: -0.375ex;\"><g stroke=\"currentColor\" fill=\"currentColor\" stroke-width=\"0\" transform=\"scale(1,-1)\"><g data-mml-node=\"math\"><g data-mml-node=\"msub\"><g data-mml-node=\"mi\"><use data-c=\"1D43B\" xlink:href=\"#MJX-TEX-I-1D43B\"></use></g><g data-mml-node=\"mn\" transform=\"translate(864,-150) scale(0.707)\"><use data-c=\"30\" xlink:href=\"#MJX-TEX-N-30\"></use></g></g></g></g></svg><mjx-assistive-mml unselectable=\"on\" display=\"inline\"><math xmlns=\"http://www.w3.org/1998/Math/MathML\"><msub><mi>H</mi><mn>0</mn></msub></math></mjx-assistive-mml></mjx-container>, (conclude <mjx-container class=\"MathJax CtxtMenu_Attached_0\" jax=\"SVG\" tabindex=\"0\" ctxtmenu_counter=\"13\" style=\"position: relative;\"><svg xmlns=\"http://www.w3.org/2000/svg\" width=\"2.914ex\" height=\"1.901ex\" role=\"img\" focusable=\"false\" viewBox=\"0 -683 1288.1 840.1\" xmlns:xlink=\"http://www.w3.org/1999/xlink\" aria-hidden=\"true\" style=\"vertical-align: -0.355ex;\"><g stroke=\"currentColor\" fill=\"currentColor\" stroke-width=\"0\" transform=\"scale(1,-1)\"><g data-mml-node=\"math\"><g data-mml-node=\"msub\"><g data-mml-node=\"mi\"><use data-c=\"1D43B\" xlink:href=\"#MJX-TEX-I-1D43B\"></use></g><g data-mml-node=\"mi\" transform=\"translate(864,-150) scale(0.707)\"><use data-c=\"1D44E\" xlink:href=\"#MJX-TEX-I-1D44E\"></use></g></g></g></g></svg><mjx-assistive-mml unselectable=\"on\" display=\"inline\"><math xmlns=\"http://www.w3.org/1998/Math/MathML\"><msub><mi>H</mi><mi>a</mi></msub></math></mjx-assistive-mml></mjx-container>)</th>\n",
    "\t\t\t<td class=\"table-danger\">Type I error</td>\n",
    "\t\t\t<td>True Positive </td>\n",
    "\t\t</tr>\n",
    "\t\t<tr>\n",
    "\t\t\t<th scope=\"col\">Fail to reject <mjx-container class=\"MathJax CtxtMenu_Attached_0\" jax=\"SVG\" tabindex=\"0\" ctxtmenu_counter=\"14\" style=\"position: relative;\"><svg xmlns=\"http://www.w3.org/2000/svg\" width=\"2.868ex\" height=\"1.92ex\" role=\"img\" focusable=\"false\" viewBox=\"0 -683 1267.6 848.6\" xmlns:xlink=\"http://www.w3.org/1999/xlink\" aria-hidden=\"true\" style=\"vertical-align: -0.375ex;\"><g stroke=\"currentColor\" fill=\"currentColor\" stroke-width=\"0\" transform=\"scale(1,-1)\"><g data-mml-node=\"math\"><g data-mml-node=\"msub\"><g data-mml-node=\"mi\"><use data-c=\"1D43B\" xlink:href=\"#MJX-TEX-I-1D43B\"></use></g><g data-mml-node=\"mn\" transform=\"translate(864,-150) scale(0.707)\"><use data-c=\"30\" xlink:href=\"#MJX-TEX-N-30\"></use></g></g></g></g></svg><mjx-assistive-mml unselectable=\"on\" display=\"inline\"><math xmlns=\"http://www.w3.org/1998/Math/MathML\"><msub><mi>H</mi><mn>0</mn></msub></math></mjx-assistive-mml></mjx-container></th>\n",
    "\t\t\t<td>True Negative</td>\n",
    "\t\t\t<td class=\"table-danger\">Type II error</td>\n",
    "\t\t</tr>\n",
    "\t</thead>\n",
    "</table>"
   ]
  },
  {
   "cell_type": "markdown",
   "metadata": {},
   "source": [
    "# Exercises"
   ]
  },
  {
   "cell_type": "markdown",
   "metadata": {},
   "source": [
    "## 1"
   ]
  },
  {
   "cell_type": "markdown",
   "metadata": {},
   "source": [
    "Has the network latency gone up since we switched internet service providers?\n"
   ]
  },
  {
   "cell_type": "markdown",
   "metadata": {},
   "source": [
    "$ H_0 = \\textrm{\"latency has remained constant through the switch\" }$"
   ]
  },
  {
   "cell_type": "markdown",
   "metadata": {},
   "source": [
    "$ H_1 = \\textrm{\"latency has NOT remained constant through the switch\" }$"
   ]
  },
  {
   "cell_type": "markdown",
   "metadata": {},
   "source": [
    "$\\textrm{True Positive : \"we REJECT }H_0\\textrm{ and are CORRECT, the latency DID NOT remain constant\" }$"
   ]
  },
  {
   "cell_type": "markdown",
   "metadata": {},
   "source": [
    "$\\textrm{True Negative : \"we FAIL TO REJECT }H_0\\textrm{ and are CORRECT, the latency remained constant\" }$"
   ]
  },
  {
   "cell_type": "markdown",
   "metadata": {},
   "source": [
    "$\\textrm{Type I Error : \"we REJECT }H_0\\textrm{ but are WRONG, the latency remained constant\" }$"
   ]
  },
  {
   "cell_type": "markdown",
   "metadata": {},
   "source": [
    "$\\textrm{Type II Error : \"we FAIL TO REJECT }H_0\\textrm{ but are WRONG, the latency DID NOT remain constant\" }$"
   ]
  }
 ],
 "metadata": {
  "interpreter": {
   "hash": "3067ead486e059ec00ffe7555bdb889e6e264a24dc711bf108106cc7baee8d5d"
  },
  "kernelspec": {
   "display_name": "Python 3.9.7 ('base')",
   "language": "python",
   "name": "python3"
  },
  "language_info": {
   "codemirror_mode": {
    "name": "ipython",
    "version": 3
   },
   "file_extension": ".py",
   "mimetype": "text/x-python",
   "name": "python",
   "nbconvert_exporter": "python",
   "pygments_lexer": "ipython3",
   "version": "3.9.7"
  },
  "orig_nbformat": 4
 },
 "nbformat": 4,
 "nbformat_minor": 2
}
